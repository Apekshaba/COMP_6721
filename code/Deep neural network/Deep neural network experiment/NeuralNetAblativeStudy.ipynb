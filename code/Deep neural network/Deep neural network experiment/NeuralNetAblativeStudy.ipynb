{
  "nbformat": 4,
  "nbformat_minor": 0,
  "metadata": {
    "colab": {
      "provenance": []
    },
    "kernelspec": {
      "name": "python3",
      "display_name": "Python 3"
    },
    "language_info": {
      "name": "python"
    }
  },
  "cells": [
    {
      "cell_type": "markdown",
      "source": [
        "<hr/>\n",
        "\n",
        "# Loan defaulter classification system using Keras - Artificial Neural Network\n",
        "<hr/>\n"
      ],
      "metadata": {
        "id": "w7wU-DwGrvbY"
      }
    },
    {
      "cell_type": "markdown",
      "source": [
        "<a id=\"ch1\"></a>\n",
        "# 1. Imports"
      ],
      "metadata": {
        "id": "IDTUgbPJtFdV"
      }
    },
    {
      "cell_type": "code",
      "execution_count": 91,
      "metadata": {
        "id": "ovBHYkjm9b2h"
      },
      "outputs": [],
      "source": [
        "import pandas as pd\n",
        "import matplotlib.pyplot as plt\n",
        "import seaborn as sns\n",
        "import tensorflow as tf\n",
        "from tensorflow import keras\n",
        "from tensorflow.keras.layers import Dense, Activation, Dropout\n",
        "import numpy as np\n",
        "from sklearn.model_selection import train_test_split\n",
        "from sklearn.preprocessing import StandardScaler, MinMaxScaler\n",
        "from tensorflow.keras.callbacks import EarlyStopping\n",
        "from sklearn.metrics import classification_report,confusion_matrix, roc_curve, auc, roc_auc_score\n",
        "from sklearn.manifold import TSNE\n",
        "import seaborn as sns\n",
        "from time import time\n",
        "import math"
      ]
    },
    {
      "cell_type": "markdown",
      "source": [
        "<a id=\"ch2\"></a>\n",
        "# 2. Dataset\n",
        "\n",
        "\n",
        "---\n",
        "Link - https://www.kaggle.com/datasets/abhishek14398/loan-dataset\n"
      ],
      "metadata": {
        "id": "UuqK2REKnixK"
      }
    },
    {
      "cell_type": "markdown",
      "source": [
        "### Loading the data"
      ],
      "metadata": {
        "id": "R42fi8rmuhuX"
      }
    },
    {
      "cell_type": "code",
      "source": [
        "loan_df = pd.read_csv(\"loan_train_sampled.csv\")\n",
        "loan_df.head()"
      ],
      "metadata": {
        "colab": {
          "base_uri": "https://localhost:8080/",
          "height": 386
        },
        "id": "iyeXgdD0-Vhe",
        "outputId": "17d15f53-0998-4992-bf49-44fe521adba1"
      },
      "execution_count": 2,
      "outputs": [
        {
          "output_type": "execute_result",
          "data": {
            "text/plain": [
              "   loan_amnt  funded_amnt  funded_amnt_inv        term  int_rate grade  \\\n",
              "0       6000         6000       6000.00000   36 months     10.59     B   \n",
              "1      14000        14000      13991.39746   36 months     19.82     G   \n",
              "2      15000        15000      14700.00000   36 months     11.14     B   \n",
              "3       8000         8000       7775.00000   36 months      7.14     A   \n",
              "4      20500        12625      12625.00000   60 months     20.89     F   \n",
              "\n",
              "  sub_grade  emp_length home_ownership  annual_inc  ... total_rec_int  \\\n",
              "0        B2          10       MORTGAGE    130000.0  ...        751.93   \n",
              "1        G1           4           RENT     40000.0  ...       4686.01   \n",
              "2        B1           7           RENT     36700.0  ...       1979.51   \n",
              "3        A3          10           RENT    126252.0  ...        384.99   \n",
              "4        F1           9       MORTGAGE     54000.0  ...       7502.09   \n",
              "\n",
              "  total_rec_late_fee recoveries collection_recovery_fee last_pymnt_d  \\\n",
              "0                0.0        0.0                     0.0       Jan-13   \n",
              "1                0.0        0.0                     0.0       Jan-13   \n",
              "2                0.0        0.0                     0.0       Mar-11   \n",
              "3                0.0        0.0                     0.0       Apr-11   \n",
              "4                0.0        0.0                     0.0       Mar-16   \n",
              "\n",
              "   last_pymnt_amnt  last_credit_pull_d collections_12_mths_ex_med  \\\n",
              "0          3441.52              May-13                          0   \n",
              "1           554.99              Dec-15                          0   \n",
              "2          8616.51              May-16                          0   \n",
              "3          6409.52              Mar-16                          0   \n",
              "4            88.58              Mar-16                          0   \n",
              "\n",
              "   pub_rec_bankruptcies  loan_status  \n",
              "0                     0   Fully Paid  \n",
              "1                     0   Fully Paid  \n",
              "2                     0   Fully Paid  \n",
              "3                     0   Fully Paid  \n",
              "4                     0   Fully Paid  \n",
              "\n",
              "[5 rows x 39 columns]"
            ],
            "text/html": [
              "\n",
              "  <div id=\"df-38ac4b6c-8c3a-40ec-9a59-f00925993a2a\">\n",
              "    <div class=\"colab-df-container\">\n",
              "      <div>\n",
              "<style scoped>\n",
              "    .dataframe tbody tr th:only-of-type {\n",
              "        vertical-align: middle;\n",
              "    }\n",
              "\n",
              "    .dataframe tbody tr th {\n",
              "        vertical-align: top;\n",
              "    }\n",
              "\n",
              "    .dataframe thead th {\n",
              "        text-align: right;\n",
              "    }\n",
              "</style>\n",
              "<table border=\"1\" class=\"dataframe\">\n",
              "  <thead>\n",
              "    <tr style=\"text-align: right;\">\n",
              "      <th></th>\n",
              "      <th>loan_amnt</th>\n",
              "      <th>funded_amnt</th>\n",
              "      <th>funded_amnt_inv</th>\n",
              "      <th>term</th>\n",
              "      <th>int_rate</th>\n",
              "      <th>grade</th>\n",
              "      <th>sub_grade</th>\n",
              "      <th>emp_length</th>\n",
              "      <th>home_ownership</th>\n",
              "      <th>annual_inc</th>\n",
              "      <th>...</th>\n",
              "      <th>total_rec_int</th>\n",
              "      <th>total_rec_late_fee</th>\n",
              "      <th>recoveries</th>\n",
              "      <th>collection_recovery_fee</th>\n",
              "      <th>last_pymnt_d</th>\n",
              "      <th>last_pymnt_amnt</th>\n",
              "      <th>last_credit_pull_d</th>\n",
              "      <th>collections_12_mths_ex_med</th>\n",
              "      <th>pub_rec_bankruptcies</th>\n",
              "      <th>loan_status</th>\n",
              "    </tr>\n",
              "  </thead>\n",
              "  <tbody>\n",
              "    <tr>\n",
              "      <th>0</th>\n",
              "      <td>6000</td>\n",
              "      <td>6000</td>\n",
              "      <td>6000.00000</td>\n",
              "      <td>36 months</td>\n",
              "      <td>10.59</td>\n",
              "      <td>B</td>\n",
              "      <td>B2</td>\n",
              "      <td>10</td>\n",
              "      <td>MORTGAGE</td>\n",
              "      <td>130000.0</td>\n",
              "      <td>...</td>\n",
              "      <td>751.93</td>\n",
              "      <td>0.0</td>\n",
              "      <td>0.0</td>\n",
              "      <td>0.0</td>\n",
              "      <td>Jan-13</td>\n",
              "      <td>3441.52</td>\n",
              "      <td>May-13</td>\n",
              "      <td>0</td>\n",
              "      <td>0</td>\n",
              "      <td>Fully Paid</td>\n",
              "    </tr>\n",
              "    <tr>\n",
              "      <th>1</th>\n",
              "      <td>14000</td>\n",
              "      <td>14000</td>\n",
              "      <td>13991.39746</td>\n",
              "      <td>36 months</td>\n",
              "      <td>19.82</td>\n",
              "      <td>G</td>\n",
              "      <td>G1</td>\n",
              "      <td>4</td>\n",
              "      <td>RENT</td>\n",
              "      <td>40000.0</td>\n",
              "      <td>...</td>\n",
              "      <td>4686.01</td>\n",
              "      <td>0.0</td>\n",
              "      <td>0.0</td>\n",
              "      <td>0.0</td>\n",
              "      <td>Jan-13</td>\n",
              "      <td>554.99</td>\n",
              "      <td>Dec-15</td>\n",
              "      <td>0</td>\n",
              "      <td>0</td>\n",
              "      <td>Fully Paid</td>\n",
              "    </tr>\n",
              "    <tr>\n",
              "      <th>2</th>\n",
              "      <td>15000</td>\n",
              "      <td>15000</td>\n",
              "      <td>14700.00000</td>\n",
              "      <td>36 months</td>\n",
              "      <td>11.14</td>\n",
              "      <td>B</td>\n",
              "      <td>B1</td>\n",
              "      <td>7</td>\n",
              "      <td>RENT</td>\n",
              "      <td>36700.0</td>\n",
              "      <td>...</td>\n",
              "      <td>1979.51</td>\n",
              "      <td>0.0</td>\n",
              "      <td>0.0</td>\n",
              "      <td>0.0</td>\n",
              "      <td>Mar-11</td>\n",
              "      <td>8616.51</td>\n",
              "      <td>May-16</td>\n",
              "      <td>0</td>\n",
              "      <td>0</td>\n",
              "      <td>Fully Paid</td>\n",
              "    </tr>\n",
              "    <tr>\n",
              "      <th>3</th>\n",
              "      <td>8000</td>\n",
              "      <td>8000</td>\n",
              "      <td>7775.00000</td>\n",
              "      <td>36 months</td>\n",
              "      <td>7.14</td>\n",
              "      <td>A</td>\n",
              "      <td>A3</td>\n",
              "      <td>10</td>\n",
              "      <td>RENT</td>\n",
              "      <td>126252.0</td>\n",
              "      <td>...</td>\n",
              "      <td>384.99</td>\n",
              "      <td>0.0</td>\n",
              "      <td>0.0</td>\n",
              "      <td>0.0</td>\n",
              "      <td>Apr-11</td>\n",
              "      <td>6409.52</td>\n",
              "      <td>Mar-16</td>\n",
              "      <td>0</td>\n",
              "      <td>0</td>\n",
              "      <td>Fully Paid</td>\n",
              "    </tr>\n",
              "    <tr>\n",
              "      <th>4</th>\n",
              "      <td>20500</td>\n",
              "      <td>12625</td>\n",
              "      <td>12625.00000</td>\n",
              "      <td>60 months</td>\n",
              "      <td>20.89</td>\n",
              "      <td>F</td>\n",
              "      <td>F1</td>\n",
              "      <td>9</td>\n",
              "      <td>MORTGAGE</td>\n",
              "      <td>54000.0</td>\n",
              "      <td>...</td>\n",
              "      <td>7502.09</td>\n",
              "      <td>0.0</td>\n",
              "      <td>0.0</td>\n",
              "      <td>0.0</td>\n",
              "      <td>Mar-16</td>\n",
              "      <td>88.58</td>\n",
              "      <td>Mar-16</td>\n",
              "      <td>0</td>\n",
              "      <td>0</td>\n",
              "      <td>Fully Paid</td>\n",
              "    </tr>\n",
              "  </tbody>\n",
              "</table>\n",
              "<p>5 rows × 39 columns</p>\n",
              "</div>\n",
              "      <button class=\"colab-df-convert\" onclick=\"convertToInteractive('df-38ac4b6c-8c3a-40ec-9a59-f00925993a2a')\"\n",
              "              title=\"Convert this dataframe to an interactive table.\"\n",
              "              style=\"display:none;\">\n",
              "        \n",
              "  <svg xmlns=\"http://www.w3.org/2000/svg\" height=\"24px\"viewBox=\"0 0 24 24\"\n",
              "       width=\"24px\">\n",
              "    <path d=\"M0 0h24v24H0V0z\" fill=\"none\"/>\n",
              "    <path d=\"M18.56 5.44l.94 2.06.94-2.06 2.06-.94-2.06-.94-.94-2.06-.94 2.06-2.06.94zm-11 1L8.5 8.5l.94-2.06 2.06-.94-2.06-.94L8.5 2.5l-.94 2.06-2.06.94zm10 10l.94 2.06.94-2.06 2.06-.94-2.06-.94-.94-2.06-.94 2.06-2.06.94z\"/><path d=\"M17.41 7.96l-1.37-1.37c-.4-.4-.92-.59-1.43-.59-.52 0-1.04.2-1.43.59L10.3 9.45l-7.72 7.72c-.78.78-.78 2.05 0 2.83L4 21.41c.39.39.9.59 1.41.59.51 0 1.02-.2 1.41-.59l7.78-7.78 2.81-2.81c.8-.78.8-2.07 0-2.86zM5.41 20L4 18.59l7.72-7.72 1.47 1.35L5.41 20z\"/>\n",
              "  </svg>\n",
              "      </button>\n",
              "      \n",
              "  <style>\n",
              "    .colab-df-container {\n",
              "      display:flex;\n",
              "      flex-wrap:wrap;\n",
              "      gap: 12px;\n",
              "    }\n",
              "\n",
              "    .colab-df-convert {\n",
              "      background-color: #E8F0FE;\n",
              "      border: none;\n",
              "      border-radius: 50%;\n",
              "      cursor: pointer;\n",
              "      display: none;\n",
              "      fill: #1967D2;\n",
              "      height: 32px;\n",
              "      padding: 0 0 0 0;\n",
              "      width: 32px;\n",
              "    }\n",
              "\n",
              "    .colab-df-convert:hover {\n",
              "      background-color: #E2EBFA;\n",
              "      box-shadow: 0px 1px 2px rgba(60, 64, 67, 0.3), 0px 1px 3px 1px rgba(60, 64, 67, 0.15);\n",
              "      fill: #174EA6;\n",
              "    }\n",
              "\n",
              "    [theme=dark] .colab-df-convert {\n",
              "      background-color: #3B4455;\n",
              "      fill: #D2E3FC;\n",
              "    }\n",
              "\n",
              "    [theme=dark] .colab-df-convert:hover {\n",
              "      background-color: #434B5C;\n",
              "      box-shadow: 0px 1px 3px 1px rgba(0, 0, 0, 0.15);\n",
              "      filter: drop-shadow(0px 1px 2px rgba(0, 0, 0, 0.3));\n",
              "      fill: #FFFFFF;\n",
              "    }\n",
              "  </style>\n",
              "\n",
              "      <script>\n",
              "        const buttonEl =\n",
              "          document.querySelector('#df-38ac4b6c-8c3a-40ec-9a59-f00925993a2a button.colab-df-convert');\n",
              "        buttonEl.style.display =\n",
              "          google.colab.kernel.accessAllowed ? 'block' : 'none';\n",
              "\n",
              "        async function convertToInteractive(key) {\n",
              "          const element = document.querySelector('#df-38ac4b6c-8c3a-40ec-9a59-f00925993a2a');\n",
              "          const dataTable =\n",
              "            await google.colab.kernel.invokeFunction('convertToInteractive',\n",
              "                                                     [key], {});\n",
              "          if (!dataTable) return;\n",
              "\n",
              "          const docLinkHtml = 'Like what you see? Visit the ' +\n",
              "            '<a target=\"_blank\" href=https://colab.research.google.com/notebooks/data_table.ipynb>data table notebook</a>'\n",
              "            + ' to learn more about interactive tables.';\n",
              "          element.innerHTML = '';\n",
              "          dataTable['output_type'] = 'display_data';\n",
              "          await google.colab.output.renderOutput(dataTable, element);\n",
              "          const docLink = document.createElement('div');\n",
              "          docLink.innerHTML = docLinkHtml;\n",
              "          element.appendChild(docLink);\n",
              "        }\n",
              "      </script>\n",
              "    </div>\n",
              "  </div>\n",
              "  "
            ]
          },
          "metadata": {},
          "execution_count": 2
        }
      ]
    },
    {
      "cell_type": "markdown",
      "source": [
        "### Preview of the dataset"
      ],
      "metadata": {
        "id": "Vis5oJnIuYsA"
      }
    },
    {
      "cell_type": "code",
      "source": [
        "loan_df.shape"
      ],
      "metadata": {
        "colab": {
          "base_uri": "https://localhost:8080/"
        },
        "id": "3hncsyg9-WWz",
        "outputId": "c25816ea-5017-4328-f7be-cc29a6a8739c"
      },
      "execution_count": 3,
      "outputs": [
        {
          "output_type": "execute_result",
          "data": {
            "text/plain": [
              "(16780, 39)"
            ]
          },
          "metadata": {},
          "execution_count": 3
        }
      ]
    },
    {
      "cell_type": "code",
      "source": [
        "loan_df.info()"
      ],
      "metadata": {
        "colab": {
          "base_uri": "https://localhost:8080/"
        },
        "id": "910m-iVS-ucG",
        "outputId": "a4f2267d-f6d6-40a2-b017-5296db13dd0e"
      },
      "execution_count": 4,
      "outputs": [
        {
          "output_type": "stream",
          "name": "stdout",
          "text": [
            "<class 'pandas.core.frame.DataFrame'>\n",
            "RangeIndex: 16780 entries, 0 to 16779\n",
            "Data columns (total 39 columns):\n",
            " #   Column                      Non-Null Count  Dtype  \n",
            "---  ------                      --------------  -----  \n",
            " 0   loan_amnt                   16780 non-null  int64  \n",
            " 1   funded_amnt                 16780 non-null  int64  \n",
            " 2   funded_amnt_inv             16780 non-null  float64\n",
            " 3   term                        16780 non-null  object \n",
            " 4   int_rate                    16780 non-null  float64\n",
            " 5   grade                       16780 non-null  object \n",
            " 6   sub_grade                   16780 non-null  object \n",
            " 7   emp_length                  16780 non-null  int64  \n",
            " 8   home_ownership              16780 non-null  object \n",
            " 9   annual_inc                  16780 non-null  float64\n",
            " 10  verification_status         16780 non-null  object \n",
            " 11  issue_d                     16780 non-null  object \n",
            " 12  purpose                     16780 non-null  object \n",
            " 13  title                       16780 non-null  object \n",
            " 14  addr_state                  16780 non-null  object \n",
            " 15  dti                         16780 non-null  float64\n",
            " 16  delinq_2yrs                 16780 non-null  int64  \n",
            " 17  earliest_cr_line            16780 non-null  object \n",
            " 18  inq_last_6mths              16780 non-null  int64  \n",
            " 19  open_acc                    16780 non-null  int64  \n",
            " 20  pub_rec                     16780 non-null  int64  \n",
            " 21  revol_bal                   16780 non-null  int64  \n",
            " 22  revol_util                  16780 non-null  float64\n",
            " 23  total_acc                   16780 non-null  int64  \n",
            " 24  out_prncp                   16780 non-null  int64  \n",
            " 25  out_prncp_inv               16780 non-null  int64  \n",
            " 26  total_pymnt                 16780 non-null  float64\n",
            " 27  total_pymnt_inv             16780 non-null  float64\n",
            " 28  total_rec_prncp             16780 non-null  float64\n",
            " 29  total_rec_int               16780 non-null  float64\n",
            " 30  total_rec_late_fee          16780 non-null  float64\n",
            " 31  recoveries                  16780 non-null  float64\n",
            " 32  collection_recovery_fee     16780 non-null  float64\n",
            " 33  last_pymnt_d                16780 non-null  object \n",
            " 34  last_pymnt_amnt             16780 non-null  float64\n",
            " 35  last_credit_pull_d          16780 non-null  object \n",
            " 36  collections_12_mths_ex_med  16780 non-null  int64  \n",
            " 37  pub_rec_bankruptcies        16780 non-null  int64  \n",
            " 38  loan_status                 16780 non-null  object \n",
            "dtypes: float64(13), int64(13), object(13)\n",
            "memory usage: 5.0+ MB\n"
          ]
        }
      ]
    },
    {
      "cell_type": "code",
      "source": [
        "loan_df.describe().transpose()"
      ],
      "metadata": {
        "colab": {
          "base_uri": "https://localhost:8080/",
          "height": 865
        },
        "id": "LkbQQW_rDOjk",
        "outputId": "230481a3-1d0b-42da-f79b-091d3718de8c"
      },
      "execution_count": 5,
      "outputs": [
        {
          "output_type": "execute_result",
          "data": {
            "text/plain": [
              "                              count          mean           std      min  \\\n",
              "loan_amnt                   16780.0  11097.749106   7273.057226  1000.00   \n",
              "funded_amnt                 16780.0  10838.647735   7016.709581  1000.00   \n",
              "funded_amnt_inv             16780.0  10362.358440   6925.787448     0.00   \n",
              "int_rate                    16780.0     12.521789      3.647799     5.42   \n",
              "emp_length                  16780.0      5.036234      3.286796     1.00   \n",
              "annual_inc                  16780.0  60282.821036  27316.525010  4000.00   \n",
              "dti                         16780.0     13.795358      6.387046     0.00   \n",
              "delinq_2yrs                 16780.0      0.130989      0.458160     0.00   \n",
              "inq_last_6mths              16780.0      0.838915      1.023113     0.00   \n",
              "open_acc                    16780.0      9.090465      4.212095     2.00   \n",
              "pub_rec                     16780.0      0.050298      0.223953     0.00   \n",
              "revol_bal                   16780.0  12434.678784  13413.730621     0.00   \n",
              "revol_util                  16780.0     51.339780     27.587225     0.00   \n",
              "total_acc                   16780.0     21.547735     10.983619     2.00   \n",
              "out_prncp                   16780.0      0.000000      0.000000     0.00   \n",
              "out_prncp_inv               16780.0      0.000000      0.000000     0.00   \n",
              "total_pymnt                 16780.0  10154.756026   8241.884452    35.71   \n",
              "total_pymnt_inv             16780.0   9736.377447   8087.186243     0.00   \n",
              "total_rec_prncp             16780.0   7794.133835   6552.405215     0.00   \n",
              "total_rec_int               16780.0   2113.559896   2346.506007     6.27   \n",
              "total_rec_late_fee          16780.0      2.318582      8.723110     0.00   \n",
              "recoveries                  16780.0    244.743759    987.364486     0.00   \n",
              "collection_recovery_fee     16780.0     29.018183    196.059562     0.00   \n",
              "last_pymnt_amnt             16780.0   1993.289683   3859.821867     0.01   \n",
              "collections_12_mths_ex_med  16780.0      0.000000      0.000000     0.00   \n",
              "pub_rec_bankruptcies        16780.0      0.038141      0.191852     0.00   \n",
              "\n",
              "                                     25%           50%           75%  \\\n",
              "loan_amnt                    5400.000000   9800.000000  15000.000000   \n",
              "funded_amnt                  5325.000000   9600.000000  15000.000000   \n",
              "funded_amnt_inv              5000.000000   8950.000000  14374.713900   \n",
              "int_rate                       10.000000     12.530000     15.050000   \n",
              "emp_length                      2.000000      4.000000      8.000000   \n",
              "annual_inc                  40000.000000  55000.000000  76000.000000   \n",
              "dti                             9.030000     14.010000     18.820000   \n",
              "delinq_2yrs                     0.000000      0.000000      0.000000   \n",
              "inq_last_6mths                  0.000000      1.000000      1.000000   \n",
              "open_acc                        6.000000      8.000000     11.000000   \n",
              "pub_rec                         0.000000      0.000000      0.000000   \n",
              "revol_bal                    3808.000000   8754.500000  16438.000000   \n",
              "revol_util                     29.400000     53.198094     73.820552   \n",
              "total_acc                      13.000000     20.000000     28.000000   \n",
              "out_prncp                       0.000000      0.000000      0.000000   \n",
              "out_prncp_inv                   0.000000      0.000000      0.000000   \n",
              "total_pymnt                  4080.765000   7848.810004  13932.488870   \n",
              "total_pymnt_inv              3773.222500   7478.005000  13401.042500   \n",
              "total_rec_prncp              2820.146701   6000.000000  11000.000000   \n",
              "total_rec_int                 638.321103   1302.715000   2656.105000   \n",
              "total_rec_late_fee              0.000000      0.000000      0.000000   \n",
              "recoveries                      0.000000      0.000000    100.194441   \n",
              "collection_recovery_fee         0.000000      0.000000      1.469486   \n",
              "last_pymnt_amnt               177.925000    369.080000   1685.357500   \n",
              "collections_12_mths_ex_med      0.000000      0.000000      0.000000   \n",
              "pub_rec_bankruptcies            0.000000      0.000000      0.000000   \n",
              "\n",
              "                                      max  \n",
              "loan_amnt                    35000.000000  \n",
              "funded_amnt                  35000.000000  \n",
              "funded_amnt_inv              35000.000000  \n",
              "int_rate                        24.400000  \n",
              "emp_length                      10.000000  \n",
              "annual_inc                  141996.000000  \n",
              "dti                             29.930000  \n",
              "delinq_2yrs                      9.000000  \n",
              "inq_last_6mths                   8.000000  \n",
              "open_acc                        39.000000  \n",
              "pub_rec                          2.000000  \n",
              "revol_bal                   149000.000000  \n",
              "revol_util                      99.900000  \n",
              "total_acc                       90.000000  \n",
              "out_prncp                        0.000000  \n",
              "out_prncp_inv                    0.000000  \n",
              "total_pymnt                  58563.679930  \n",
              "total_pymnt_inv              58563.680000  \n",
              "total_rec_prncp              35000.000000  \n",
              "total_rec_int                23563.680000  \n",
              "total_rec_late_fee             166.429711  \n",
              "recoveries                   29623.350000  \n",
              "collection_recovery_fee       6543.040000  \n",
              "last_pymnt_amnt              35471.860000  \n",
              "collections_12_mths_ex_med       0.000000  \n",
              "pub_rec_bankruptcies             2.000000  "
            ],
            "text/html": [
              "\n",
              "  <div id=\"df-af83b413-40e6-4299-9a1a-8a28757585b9\">\n",
              "    <div class=\"colab-df-container\">\n",
              "      <div>\n",
              "<style scoped>\n",
              "    .dataframe tbody tr th:only-of-type {\n",
              "        vertical-align: middle;\n",
              "    }\n",
              "\n",
              "    .dataframe tbody tr th {\n",
              "        vertical-align: top;\n",
              "    }\n",
              "\n",
              "    .dataframe thead th {\n",
              "        text-align: right;\n",
              "    }\n",
              "</style>\n",
              "<table border=\"1\" class=\"dataframe\">\n",
              "  <thead>\n",
              "    <tr style=\"text-align: right;\">\n",
              "      <th></th>\n",
              "      <th>count</th>\n",
              "      <th>mean</th>\n",
              "      <th>std</th>\n",
              "      <th>min</th>\n",
              "      <th>25%</th>\n",
              "      <th>50%</th>\n",
              "      <th>75%</th>\n",
              "      <th>max</th>\n",
              "    </tr>\n",
              "  </thead>\n",
              "  <tbody>\n",
              "    <tr>\n",
              "      <th>loan_amnt</th>\n",
              "      <td>16780.0</td>\n",
              "      <td>11097.749106</td>\n",
              "      <td>7273.057226</td>\n",
              "      <td>1000.00</td>\n",
              "      <td>5400.000000</td>\n",
              "      <td>9800.000000</td>\n",
              "      <td>15000.000000</td>\n",
              "      <td>35000.000000</td>\n",
              "    </tr>\n",
              "    <tr>\n",
              "      <th>funded_amnt</th>\n",
              "      <td>16780.0</td>\n",
              "      <td>10838.647735</td>\n",
              "      <td>7016.709581</td>\n",
              "      <td>1000.00</td>\n",
              "      <td>5325.000000</td>\n",
              "      <td>9600.000000</td>\n",
              "      <td>15000.000000</td>\n",
              "      <td>35000.000000</td>\n",
              "    </tr>\n",
              "    <tr>\n",
              "      <th>funded_amnt_inv</th>\n",
              "      <td>16780.0</td>\n",
              "      <td>10362.358440</td>\n",
              "      <td>6925.787448</td>\n",
              "      <td>0.00</td>\n",
              "      <td>5000.000000</td>\n",
              "      <td>8950.000000</td>\n",
              "      <td>14374.713900</td>\n",
              "      <td>35000.000000</td>\n",
              "    </tr>\n",
              "    <tr>\n",
              "      <th>int_rate</th>\n",
              "      <td>16780.0</td>\n",
              "      <td>12.521789</td>\n",
              "      <td>3.647799</td>\n",
              "      <td>5.42</td>\n",
              "      <td>10.000000</td>\n",
              "      <td>12.530000</td>\n",
              "      <td>15.050000</td>\n",
              "      <td>24.400000</td>\n",
              "    </tr>\n",
              "    <tr>\n",
              "      <th>emp_length</th>\n",
              "      <td>16780.0</td>\n",
              "      <td>5.036234</td>\n",
              "      <td>3.286796</td>\n",
              "      <td>1.00</td>\n",
              "      <td>2.000000</td>\n",
              "      <td>4.000000</td>\n",
              "      <td>8.000000</td>\n",
              "      <td>10.000000</td>\n",
              "    </tr>\n",
              "    <tr>\n",
              "      <th>annual_inc</th>\n",
              "      <td>16780.0</td>\n",
              "      <td>60282.821036</td>\n",
              "      <td>27316.525010</td>\n",
              "      <td>4000.00</td>\n",
              "      <td>40000.000000</td>\n",
              "      <td>55000.000000</td>\n",
              "      <td>76000.000000</td>\n",
              "      <td>141996.000000</td>\n",
              "    </tr>\n",
              "    <tr>\n",
              "      <th>dti</th>\n",
              "      <td>16780.0</td>\n",
              "      <td>13.795358</td>\n",
              "      <td>6.387046</td>\n",
              "      <td>0.00</td>\n",
              "      <td>9.030000</td>\n",
              "      <td>14.010000</td>\n",
              "      <td>18.820000</td>\n",
              "      <td>29.930000</td>\n",
              "    </tr>\n",
              "    <tr>\n",
              "      <th>delinq_2yrs</th>\n",
              "      <td>16780.0</td>\n",
              "      <td>0.130989</td>\n",
              "      <td>0.458160</td>\n",
              "      <td>0.00</td>\n",
              "      <td>0.000000</td>\n",
              "      <td>0.000000</td>\n",
              "      <td>0.000000</td>\n",
              "      <td>9.000000</td>\n",
              "    </tr>\n",
              "    <tr>\n",
              "      <th>inq_last_6mths</th>\n",
              "      <td>16780.0</td>\n",
              "      <td>0.838915</td>\n",
              "      <td>1.023113</td>\n",
              "      <td>0.00</td>\n",
              "      <td>0.000000</td>\n",
              "      <td>1.000000</td>\n",
              "      <td>1.000000</td>\n",
              "      <td>8.000000</td>\n",
              "    </tr>\n",
              "    <tr>\n",
              "      <th>open_acc</th>\n",
              "      <td>16780.0</td>\n",
              "      <td>9.090465</td>\n",
              "      <td>4.212095</td>\n",
              "      <td>2.00</td>\n",
              "      <td>6.000000</td>\n",
              "      <td>8.000000</td>\n",
              "      <td>11.000000</td>\n",
              "      <td>39.000000</td>\n",
              "    </tr>\n",
              "    <tr>\n",
              "      <th>pub_rec</th>\n",
              "      <td>16780.0</td>\n",
              "      <td>0.050298</td>\n",
              "      <td>0.223953</td>\n",
              "      <td>0.00</td>\n",
              "      <td>0.000000</td>\n",
              "      <td>0.000000</td>\n",
              "      <td>0.000000</td>\n",
              "      <td>2.000000</td>\n",
              "    </tr>\n",
              "    <tr>\n",
              "      <th>revol_bal</th>\n",
              "      <td>16780.0</td>\n",
              "      <td>12434.678784</td>\n",
              "      <td>13413.730621</td>\n",
              "      <td>0.00</td>\n",
              "      <td>3808.000000</td>\n",
              "      <td>8754.500000</td>\n",
              "      <td>16438.000000</td>\n",
              "      <td>149000.000000</td>\n",
              "    </tr>\n",
              "    <tr>\n",
              "      <th>revol_util</th>\n",
              "      <td>16780.0</td>\n",
              "      <td>51.339780</td>\n",
              "      <td>27.587225</td>\n",
              "      <td>0.00</td>\n",
              "      <td>29.400000</td>\n",
              "      <td>53.198094</td>\n",
              "      <td>73.820552</td>\n",
              "      <td>99.900000</td>\n",
              "    </tr>\n",
              "    <tr>\n",
              "      <th>total_acc</th>\n",
              "      <td>16780.0</td>\n",
              "      <td>21.547735</td>\n",
              "      <td>10.983619</td>\n",
              "      <td>2.00</td>\n",
              "      <td>13.000000</td>\n",
              "      <td>20.000000</td>\n",
              "      <td>28.000000</td>\n",
              "      <td>90.000000</td>\n",
              "    </tr>\n",
              "    <tr>\n",
              "      <th>out_prncp</th>\n",
              "      <td>16780.0</td>\n",
              "      <td>0.000000</td>\n",
              "      <td>0.000000</td>\n",
              "      <td>0.00</td>\n",
              "      <td>0.000000</td>\n",
              "      <td>0.000000</td>\n",
              "      <td>0.000000</td>\n",
              "      <td>0.000000</td>\n",
              "    </tr>\n",
              "    <tr>\n",
              "      <th>out_prncp_inv</th>\n",
              "      <td>16780.0</td>\n",
              "      <td>0.000000</td>\n",
              "      <td>0.000000</td>\n",
              "      <td>0.00</td>\n",
              "      <td>0.000000</td>\n",
              "      <td>0.000000</td>\n",
              "      <td>0.000000</td>\n",
              "      <td>0.000000</td>\n",
              "    </tr>\n",
              "    <tr>\n",
              "      <th>total_pymnt</th>\n",
              "      <td>16780.0</td>\n",
              "      <td>10154.756026</td>\n",
              "      <td>8241.884452</td>\n",
              "      <td>35.71</td>\n",
              "      <td>4080.765000</td>\n",
              "      <td>7848.810004</td>\n",
              "      <td>13932.488870</td>\n",
              "      <td>58563.679930</td>\n",
              "    </tr>\n",
              "    <tr>\n",
              "      <th>total_pymnt_inv</th>\n",
              "      <td>16780.0</td>\n",
              "      <td>9736.377447</td>\n",
              "      <td>8087.186243</td>\n",
              "      <td>0.00</td>\n",
              "      <td>3773.222500</td>\n",
              "      <td>7478.005000</td>\n",
              "      <td>13401.042500</td>\n",
              "      <td>58563.680000</td>\n",
              "    </tr>\n",
              "    <tr>\n",
              "      <th>total_rec_prncp</th>\n",
              "      <td>16780.0</td>\n",
              "      <td>7794.133835</td>\n",
              "      <td>6552.405215</td>\n",
              "      <td>0.00</td>\n",
              "      <td>2820.146701</td>\n",
              "      <td>6000.000000</td>\n",
              "      <td>11000.000000</td>\n",
              "      <td>35000.000000</td>\n",
              "    </tr>\n",
              "    <tr>\n",
              "      <th>total_rec_int</th>\n",
              "      <td>16780.0</td>\n",
              "      <td>2113.559896</td>\n",
              "      <td>2346.506007</td>\n",
              "      <td>6.27</td>\n",
              "      <td>638.321103</td>\n",
              "      <td>1302.715000</td>\n",
              "      <td>2656.105000</td>\n",
              "      <td>23563.680000</td>\n",
              "    </tr>\n",
              "    <tr>\n",
              "      <th>total_rec_late_fee</th>\n",
              "      <td>16780.0</td>\n",
              "      <td>2.318582</td>\n",
              "      <td>8.723110</td>\n",
              "      <td>0.00</td>\n",
              "      <td>0.000000</td>\n",
              "      <td>0.000000</td>\n",
              "      <td>0.000000</td>\n",
              "      <td>166.429711</td>\n",
              "    </tr>\n",
              "    <tr>\n",
              "      <th>recoveries</th>\n",
              "      <td>16780.0</td>\n",
              "      <td>244.743759</td>\n",
              "      <td>987.364486</td>\n",
              "      <td>0.00</td>\n",
              "      <td>0.000000</td>\n",
              "      <td>0.000000</td>\n",
              "      <td>100.194441</td>\n",
              "      <td>29623.350000</td>\n",
              "    </tr>\n",
              "    <tr>\n",
              "      <th>collection_recovery_fee</th>\n",
              "      <td>16780.0</td>\n",
              "      <td>29.018183</td>\n",
              "      <td>196.059562</td>\n",
              "      <td>0.00</td>\n",
              "      <td>0.000000</td>\n",
              "      <td>0.000000</td>\n",
              "      <td>1.469486</td>\n",
              "      <td>6543.040000</td>\n",
              "    </tr>\n",
              "    <tr>\n",
              "      <th>last_pymnt_amnt</th>\n",
              "      <td>16780.0</td>\n",
              "      <td>1993.289683</td>\n",
              "      <td>3859.821867</td>\n",
              "      <td>0.01</td>\n",
              "      <td>177.925000</td>\n",
              "      <td>369.080000</td>\n",
              "      <td>1685.357500</td>\n",
              "      <td>35471.860000</td>\n",
              "    </tr>\n",
              "    <tr>\n",
              "      <th>collections_12_mths_ex_med</th>\n",
              "      <td>16780.0</td>\n",
              "      <td>0.000000</td>\n",
              "      <td>0.000000</td>\n",
              "      <td>0.00</td>\n",
              "      <td>0.000000</td>\n",
              "      <td>0.000000</td>\n",
              "      <td>0.000000</td>\n",
              "      <td>0.000000</td>\n",
              "    </tr>\n",
              "    <tr>\n",
              "      <th>pub_rec_bankruptcies</th>\n",
              "      <td>16780.0</td>\n",
              "      <td>0.038141</td>\n",
              "      <td>0.191852</td>\n",
              "      <td>0.00</td>\n",
              "      <td>0.000000</td>\n",
              "      <td>0.000000</td>\n",
              "      <td>0.000000</td>\n",
              "      <td>2.000000</td>\n",
              "    </tr>\n",
              "  </tbody>\n",
              "</table>\n",
              "</div>\n",
              "      <button class=\"colab-df-convert\" onclick=\"convertToInteractive('df-af83b413-40e6-4299-9a1a-8a28757585b9')\"\n",
              "              title=\"Convert this dataframe to an interactive table.\"\n",
              "              style=\"display:none;\">\n",
              "        \n",
              "  <svg xmlns=\"http://www.w3.org/2000/svg\" height=\"24px\"viewBox=\"0 0 24 24\"\n",
              "       width=\"24px\">\n",
              "    <path d=\"M0 0h24v24H0V0z\" fill=\"none\"/>\n",
              "    <path d=\"M18.56 5.44l.94 2.06.94-2.06 2.06-.94-2.06-.94-.94-2.06-.94 2.06-2.06.94zm-11 1L8.5 8.5l.94-2.06 2.06-.94-2.06-.94L8.5 2.5l-.94 2.06-2.06.94zm10 10l.94 2.06.94-2.06 2.06-.94-2.06-.94-.94-2.06-.94 2.06-2.06.94z\"/><path d=\"M17.41 7.96l-1.37-1.37c-.4-.4-.92-.59-1.43-.59-.52 0-1.04.2-1.43.59L10.3 9.45l-7.72 7.72c-.78.78-.78 2.05 0 2.83L4 21.41c.39.39.9.59 1.41.59.51 0 1.02-.2 1.41-.59l7.78-7.78 2.81-2.81c.8-.78.8-2.07 0-2.86zM5.41 20L4 18.59l7.72-7.72 1.47 1.35L5.41 20z\"/>\n",
              "  </svg>\n",
              "      </button>\n",
              "      \n",
              "  <style>\n",
              "    .colab-df-container {\n",
              "      display:flex;\n",
              "      flex-wrap:wrap;\n",
              "      gap: 12px;\n",
              "    }\n",
              "\n",
              "    .colab-df-convert {\n",
              "      background-color: #E8F0FE;\n",
              "      border: none;\n",
              "      border-radius: 50%;\n",
              "      cursor: pointer;\n",
              "      display: none;\n",
              "      fill: #1967D2;\n",
              "      height: 32px;\n",
              "      padding: 0 0 0 0;\n",
              "      width: 32px;\n",
              "    }\n",
              "\n",
              "    .colab-df-convert:hover {\n",
              "      background-color: #E2EBFA;\n",
              "      box-shadow: 0px 1px 2px rgba(60, 64, 67, 0.3), 0px 1px 3px 1px rgba(60, 64, 67, 0.15);\n",
              "      fill: #174EA6;\n",
              "    }\n",
              "\n",
              "    [theme=dark] .colab-df-convert {\n",
              "      background-color: #3B4455;\n",
              "      fill: #D2E3FC;\n",
              "    }\n",
              "\n",
              "    [theme=dark] .colab-df-convert:hover {\n",
              "      background-color: #434B5C;\n",
              "      box-shadow: 0px 1px 3px 1px rgba(0, 0, 0, 0.15);\n",
              "      filter: drop-shadow(0px 1px 2px rgba(0, 0, 0, 0.3));\n",
              "      fill: #FFFFFF;\n",
              "    }\n",
              "  </style>\n",
              "\n",
              "      <script>\n",
              "        const buttonEl =\n",
              "          document.querySelector('#df-af83b413-40e6-4299-9a1a-8a28757585b9 button.colab-df-convert');\n",
              "        buttonEl.style.display =\n",
              "          google.colab.kernel.accessAllowed ? 'block' : 'none';\n",
              "\n",
              "        async function convertToInteractive(key) {\n",
              "          const element = document.querySelector('#df-af83b413-40e6-4299-9a1a-8a28757585b9');\n",
              "          const dataTable =\n",
              "            await google.colab.kernel.invokeFunction('convertToInteractive',\n",
              "                                                     [key], {});\n",
              "          if (!dataTable) return;\n",
              "\n",
              "          const docLinkHtml = 'Like what you see? Visit the ' +\n",
              "            '<a target=\"_blank\" href=https://colab.research.google.com/notebooks/data_table.ipynb>data table notebook</a>'\n",
              "            + ' to learn more about interactive tables.';\n",
              "          element.innerHTML = '';\n",
              "          dataTable['output_type'] = 'display_data';\n",
              "          await google.colab.output.renderOutput(dataTable, element);\n",
              "          const docLink = document.createElement('div');\n",
              "          docLink.innerHTML = docLinkHtml;\n",
              "          element.appendChild(docLink);\n",
              "        }\n",
              "      </script>\n",
              "    </div>\n",
              "  </div>\n",
              "  "
            ]
          },
          "metadata": {},
          "execution_count": 5
        }
      ]
    },
    {
      "cell_type": "markdown",
      "source": [
        "<a id=\"ch3\"></a>\n",
        "# 3. Data preprocessing"
      ],
      "metadata": {
        "id": "b3y2t8Tw4sG4"
      }
    },
    {
      "cell_type": "markdown",
      "source": [
        "### Check if any value is **NAN** in dataframe"
      ],
      "metadata": {
        "id": "SrqtYiYNoBst"
      }
    },
    {
      "cell_type": "code",
      "source": [
        "loan_df.isnull().values.any()"
      ],
      "metadata": {
        "colab": {
          "base_uri": "https://localhost:8080/"
        },
        "id": "LJUZZkvQFcMB",
        "outputId": "84cc52f3-1019-4c17-cfa1-1e10a5d3ebdd"
      },
      "execution_count": 6,
      "outputs": [
        {
          "output_type": "execute_result",
          "data": {
            "text/plain": [
              "False"
            ]
          },
          "metadata": {},
          "execution_count": 6
        }
      ]
    },
    {
      "cell_type": "markdown",
      "source": [
        "### Check for categorical columns in data"
      ],
      "metadata": {
        "id": "O7EEKUtU5DR0"
      }
    },
    {
      "cell_type": "code",
      "source": [
        "loan_df.select_dtypes(['object']).columns"
      ],
      "metadata": {
        "colab": {
          "base_uri": "https://localhost:8080/"
        },
        "id": "h6A9UkG-C5Ug",
        "outputId": "10207690-03c8-4879-cefe-954977f9e856"
      },
      "execution_count": 7,
      "outputs": [
        {
          "output_type": "execute_result",
          "data": {
            "text/plain": [
              "Index(['term', 'grade', 'sub_grade', 'home_ownership', 'verification_status',\n",
              "       'issue_d', 'purpose', 'title', 'addr_state', 'earliest_cr_line',\n",
              "       'last_pymnt_d', 'last_credit_pull_d', 'loan_status'],\n",
              "      dtype='object')"
            ]
          },
          "metadata": {},
          "execution_count": 7
        }
      ]
    },
    {
      "cell_type": "markdown",
      "source": [
        "<a id=\"ch4\"></a>\n",
        "# 4. Categorical variables and dummy variables"
      ],
      "metadata": {
        "id": "x0TeP1iu5XEv"
      }
    },
    {
      "cell_type": "markdown",
      "source": [
        "##### Work around categorical columns to convert string/object data to integer values"
      ],
      "metadata": {
        "id": "sjB-DJsN6I9Z"
      }
    },
    {
      "cell_type": "code",
      "source": [
        "print(loan_df['term'].value_counts())\n",
        "loan_df['term'] = loan_df['term'].apply(lambda term: int(term[:3]))\n",
        "print(loan_df['term'].value_counts())"
      ],
      "metadata": {
        "colab": {
          "base_uri": "https://localhost:8080/"
        },
        "id": "4d_wQisGqcpL",
        "outputId": "d0b50aa8-9fd9-4bc3-972e-e6ceaddf7032"
      },
      "execution_count": 8,
      "outputs": [
        {
          "output_type": "stream",
          "name": "stdout",
          "text": [
            " 36 months    11769\n",
            " 60 months     5011\n",
            "Name: term, dtype: int64\n",
            "36    11769\n",
            "60     5011\n",
            "Name: term, dtype: int64\n"
          ]
        }
      ]
    },
    {
      "cell_type": "markdown",
      "source": [
        "##### Drop grade feature as it is a part of sub_grade feature"
      ],
      "metadata": {
        "id": "KqJ-K4hG64hu"
      }
    },
    {
      "cell_type": "code",
      "source": [
        "loan_df = loan_df.drop('grade', axis=1)"
      ],
      "metadata": {
        "id": "ysUYwiD9uZcQ"
      },
      "execution_count": 9,
      "outputs": []
    },
    {
      "cell_type": "markdown",
      "source": [
        "##### Using one hot encoding for other categorical features"
      ],
      "metadata": {
        "id": "BtzEc5BC7G-X"
      }
    },
    {
      "cell_type": "code",
      "source": [
        "subgrade_dummies = pd.get_dummies(loan_df['sub_grade'],drop_first=True)\n",
        "loan_df = pd.concat([loan_df.drop('sub_grade',axis=1),subgrade_dummies],axis=1)"
      ],
      "metadata": {
        "id": "a2yJv3jKucUy"
      },
      "execution_count": 10,
      "outputs": []
    },
    {
      "cell_type": "code",
      "source": [
        "\n",
        "\n",
        "loan_df['home_ownership'] = loan_df['home_ownership'].replace(['NONE', 'ANY'], 'OTHER')\n",
        "dummies = pd.get_dummies(loan_df['home_ownership'],drop_first=True)\n",
        "loan_df = loan_df.drop('home_ownership',axis=1)\n",
        "loan_df = pd.concat([loan_df,dummies],axis=1)"
      ],
      "metadata": {
        "id": "gB8Mcdbss6wj"
      },
      "execution_count": 11,
      "outputs": []
    },
    {
      "cell_type": "code",
      "source": [
        "loan_df.select_dtypes(['object']).columns"
      ],
      "metadata": {
        "colab": {
          "base_uri": "https://localhost:8080/"
        },
        "id": "N5FmVAkfv0yf",
        "outputId": "4bc124e5-a1b1-4102-9036-1bb4f4bfbe36"
      },
      "execution_count": 12,
      "outputs": [
        {
          "output_type": "execute_result",
          "data": {
            "text/plain": [
              "Index(['verification_status', 'issue_d', 'purpose', 'title', 'addr_state',\n",
              "       'earliest_cr_line', 'last_pymnt_d', 'last_credit_pull_d',\n",
              "       'loan_status'],\n",
              "      dtype='object')"
            ]
          },
          "metadata": {},
          "execution_count": 12
        }
      ]
    },
    {
      "cell_type": "code",
      "source": [
        "dummies = pd.get_dummies(loan_df[['verification_status', 'issue_d', 'purpose', 'title', 'addr_state',\n",
        "       'earliest_cr_line', 'last_pymnt_d', 'last_credit_pull_d' ]],drop_first=True)\n",
        "loan_df = loan_df.drop(['verification_status', 'issue_d', 'purpose', 'title', 'addr_state',\n",
        "       'earliest_cr_line', 'last_pymnt_d', 'last_credit_pull_d'],axis=1)\n",
        "loan_df = pd.concat([loan_df,dummies],axis=1)"
      ],
      "metadata": {
        "id": "NYr3ZhPTFsoE"
      },
      "execution_count": 13,
      "outputs": []
    },
    {
      "cell_type": "markdown",
      "source": [
        "##### Comparing class imbalance in train dataset"
      ],
      "metadata": {
        "id": "2DwDF6N07_wQ"
      }
    },
    {
      "cell_type": "code",
      "source": [
        "loan_fully_paid = sum(loan_df[\"loan_status\"] == \"Fully Paid\")/len(loan_df)\n",
        "loan_charged_off = sum(loan_df[\"loan_status\"] == \"Charged Off\")/len(loan_df)"
      ],
      "metadata": {
        "id": "0EIrj6ccKwfd"
      },
      "execution_count": 14,
      "outputs": []
    },
    {
      "cell_type": "code",
      "source": [
        "loan_fully_paid"
      ],
      "metadata": {
        "colab": {
          "base_uri": "https://localhost:8080/"
        },
        "id": "NeJATNKmK4an",
        "outputId": "de5c6eeb-10cd-4c88-c0b4-5e097dfae899"
      },
      "execution_count": 15,
      "outputs": [
        {
          "output_type": "execute_result",
          "data": {
            "text/plain": [
              "0.5988081048867699"
            ]
          },
          "metadata": {},
          "execution_count": 15
        }
      ]
    },
    {
      "cell_type": "code",
      "source": [
        "loan_charged_off"
      ],
      "metadata": {
        "colab": {
          "base_uri": "https://localhost:8080/"
        },
        "id": "tSjmQLppLHxh",
        "outputId": "86ec78c3-9049-4cec-ba50-26ffdc901f1f"
      },
      "execution_count": 16,
      "outputs": [
        {
          "output_type": "execute_result",
          "data": {
            "text/plain": [
              "0.40119189511323006"
            ]
          },
          "metadata": {},
          "execution_count": 16
        }
      ]
    },
    {
      "cell_type": "code",
      "source": [
        "loan_fullypaid = loan_df[loan_df['loan_status'] == \"Fully Paid\"].copy()\n",
        "loan_chargedoff = loan_df[loan_df['loan_status'] == \"Charged Off\"].copy()"
      ],
      "metadata": {
        "id": "5mL4T7UMMfqF"
      },
      "execution_count": 17,
      "outputs": []
    },
    {
      "cell_type": "markdown",
      "source": [
        "## Loan amount vs loan status graph"
      ],
      "metadata": {
        "id": "P26bjDXI8SeH"
      }
    },
    {
      "cell_type": "code",
      "source": [
        "plt.figure(figsize=(15,8))\n",
        "sns.distplot(loan_fullypaid[\"loan_amnt\"], label='Fully Paid')\n",
        "sns.distplot(loan_chargedoff[\"loan_amnt\"], label='Charged Off')\n",
        "plt.legend()\n",
        "plt.savefig('approved_not_approved.png', facecolor='w', bbox_inches='tight')\n",
        "plt.show()\n"
      ],
      "metadata": {
        "colab": {
          "base_uri": "https://localhost:8080/",
          "height": 954
        },
        "id": "7ze5Lb9zLYZ4",
        "outputId": "e3d85447-c372-40e7-c2b0-78c7ad1ce0a4"
      },
      "execution_count": 18,
      "outputs": [
        {
          "output_type": "stream",
          "name": "stderr",
          "text": [
            "<ipython-input-18-2346aa339c2a>:2: UserWarning: \n",
            "\n",
            "`distplot` is a deprecated function and will be removed in seaborn v0.14.0.\n",
            "\n",
            "Please adapt your code to use either `displot` (a figure-level function with\n",
            "similar flexibility) or `histplot` (an axes-level function for histograms).\n",
            "\n",
            "For a guide to updating your code to use the new functions, please see\n",
            "https://gist.github.com/mwaskom/de44147ed2974457ad6372750bbe5751\n",
            "\n",
            "  sns.distplot(loan_fullypaid[\"loan_amnt\"], label='Fully Paid')\n",
            "<ipython-input-18-2346aa339c2a>:3: UserWarning: \n",
            "\n",
            "`distplot` is a deprecated function and will be removed in seaborn v0.14.0.\n",
            "\n",
            "Please adapt your code to use either `displot` (a figure-level function with\n",
            "similar flexibility) or `histplot` (an axes-level function for histograms).\n",
            "\n",
            "For a guide to updating your code to use the new functions, please see\n",
            "https://gist.github.com/mwaskom/de44147ed2974457ad6372750bbe5751\n",
            "\n",
            "  sns.distplot(loan_chargedoff[\"loan_amnt\"], label='Charged Off')\n"
          ]
        },
        {
          "output_type": "display_data",
          "data": {
            "text/plain": [
              "<Figure size 1500x800 with 1 Axes>"
            ],
            "image/png": "[encoded data removed]"
          },
          "metadata": {}
        }
      ]
    },
    {
      "cell_type": "markdown",
      "source": [
        "<a id=\"ch5\"></a>\n",
        "# 5. Train test split and data scaling"
      ],
      "metadata": {
        "id": "fDLPTX3Z81sJ"
      }
    },
    {
      "cell_type": "code",
      "source": [
        "loan_df['loan_status'] = loan_df['loan_status'].replace(['Fully Paid'], 1)\n",
        "loan_df['loan_status'] = loan_df['loan_status'].replace(['Charged Off'], 0)\n",
        "\n",
        "# preparing data and class dataframes\n",
        "Y = loan_df[\"loan_status\"]\n",
        "Y = np.asarray(Y).astype(np.float32)\n",
        "X = loan_df.drop(columns=[\"loan_status\"])\n"
      ],
      "metadata": {
        "id": "Ej9pLMbCSy0d"
      },
      "execution_count": 19,
      "outputs": []
    },
    {
      "cell_type": "markdown",
      "source": [
        "##### Data split"
      ],
      "metadata": {
        "id": "8Fn4r_QZ9ZyK"
      }
    },
    {
      "cell_type": "code",
      "source": [
        "# Split with 20% test data\n",
        "X_train, X_test, y_train, y_test = train_test_split(X, Y, test_size=0.2, random_state=101)"
      ],
      "metadata": {
        "id": "XO5yYojh3mpk"
      },
      "execution_count": 20,
      "outputs": []
    },
    {
      "cell_type": "markdown",
      "source": [
        "##### Normalizing/Scaling the data"
      ],
      "metadata": {
        "id": "hQ7rUJ0A9PAj"
      }
    },
    {
      "cell_type": "code",
      "source": [
        "scaler = MinMaxScaler()\n",
        "\n",
        "# fit and transfrom\n",
        "X_train = scaler.fit_transform(X_train)\n",
        "X_test = scaler.transform(X_test)\n",
        "\n",
        "# everything has been scaled between 1 and 0\n",
        "print('Max: ',X_train.max())\n",
        "print('Min: ', X_train.min())"
      ],
      "metadata": {
        "colab": {
          "base_uri": "https://localhost:8080/"
        },
        "id": "ItEpD6Cs3w73",
        "outputId": "708b54be-4c5c-4a8f-916e-7c99f62242a5"
      },
      "execution_count": 21,
      "outputs": [
        {
          "output_type": "stream",
          "name": "stdout",
          "text": [
            "Max:  1.0000000000000002\n",
            "Min:  0.0\n"
          ]
        }
      ]
    },
    {
      "cell_type": "markdown",
      "source": [
        "<a id=\"ch6\"></a>\n",
        "# 6. Model architecture"
      ],
      "metadata": {
        "id": "5RThk3tJ9q2M"
      }
    },
    {
      "cell_type": "code",
      "source": [
        "def create_model(lr):\n",
        "  model = keras.Sequential()\n",
        "\n",
        "  # input layer\n",
        "  model.add(Dense(78,activation='relu'))\n",
        "  model.add(Dropout(0.2))\n",
        "\n",
        "  # hidden layer\n",
        "  model.add(Dense(39,activation='relu'))\n",
        "  model.add(Dropout(0.2))\n",
        "\n",
        "  # hidden layer\n",
        "  model.add(Dense(19,activation='relu'))\n",
        "  model.add(Dropout(0.2))\n",
        "\n",
        "  # output layer\n",
        "  model.add(Dense(1, activation='sigmoid'))\n",
        "  opt = keras.optimizers.Adam(learning_rate=lr)\n",
        "\n",
        "  # compile model\n",
        "  model.compile(optimizer=opt, loss='binary_crossentropy',metrics=['accuracy'])\n",
        "  return model"
      ],
      "metadata": {
        "id": "NZ38e3HP385x"
      },
      "execution_count": 22,
      "outputs": []
    },
    {
      "cell_type": "code",
      "source": [
        "input_shape = X_train.shape\n",
        "model.build(input_shape)\n",
        "print(model.summary())"
      ],
      "metadata": {
        "colab": {
          "base_uri": "https://localhost:8080/"
        },
        "id": "NgJg2XYWwlx_",
        "outputId": "7dde234d-0d9e-4708-fe8b-a4accab6dc8a"
      },
      "execution_count": null,
      "outputs": [
        {
          "output_type": "stream",
          "name": "stdout",
          "text": [
            "Model: \"sequential\"\n",
            "_________________________________________________________________\n",
            " Layer (type)                Output Shape              Param #   \n",
            "=================================================================\n",
            " dense (Dense)               (13424, 78)               637572    \n",
            "                                                                 \n",
            " dropout (Dropout)           (13424, 78)               0         \n",
            "                                                                 \n",
            " dense_1 (Dense)             (13424, 39)               3081      \n",
            "                                                                 \n",
            " dropout_1 (Dropout)         (13424, 39)               0         \n",
            "                                                                 \n",
            " dense_2 (Dense)             (13424, 19)               760       \n",
            "                                                                 \n",
            " dropout_2 (Dropout)         (13424, 19)               0         \n",
            "                                                                 \n",
            " dense_3 (Dense)             (13424, 1)                20        \n",
            "                                                                 \n",
            "=================================================================\n",
            "Total params: 641,433\n",
            "Trainable params: 641,433\n",
            "Non-trainable params: 0\n",
            "_________________________________________________________________\n",
            "None\n"
          ]
        }
      ]
    },
    {
      "cell_type": "markdown",
      "source": [
        "<a id=\"ch7\"></a>\n",
        "# 7. Training"
      ],
      "metadata": {
        "id": "lBcDroD29-41"
      }
    },
    {
      "cell_type": "code",
      "source": [
        "early_stop = EarlyStopping(monitor='val_loss', mode='min', verbose=1, patience=25)\n"
      ],
      "metadata": {
        "id": "fLkCWYlE4Ej9"
      },
      "execution_count": 23,
      "outputs": []
    },
    {
      "cell_type": "code",
      "source": [
        "learning_rates = [0.1, 0.01,0.001]\n",
        "batch_size = [32,64,256]\n",
        "models = []\n",
        "histories = []"
      ],
      "metadata": {
        "id": "wxSH9nh38ljO"
      },
      "execution_count": 51,
      "outputs": []
    },
    {
      "cell_type": "code",
      "source": [
        "count = -1\n",
        "for lr in learning_rates:\n",
        "  for size in batch_size:\n",
        "    count = count + 1\n",
        "    models.append(create_model(lr))\n",
        "    print(\"====================Batch size: \", size , \" Learning rate: \", lr, \"====================\")\n",
        "    histories.append(models[count].fit(x=X_train,\n",
        "            y=y_train,\n",
        "            epochs=20,\n",
        "            verbose = 2,\n",
        "            batch_size=size ,\n",
        "            validation_data=(X_test, y_test),\n",
        "            callbacks=[early_stop]))"
      ],
      "metadata": {
        "colab": {
          "base_uri": "https://localhost:8080/"
        },
        "id": "mOFQ2t3882ha",
        "outputId": "c92d3b39-9f81-4706-b7e3-0401bdf6c912"
      },
      "execution_count": 52,
      "outputs": [
        {
          "output_type": "stream",
          "name": "stdout",
          "text": [
            "====================Batch size:  32  Learning rate:  0.1 ====================\n",
            "Epoch 1/20\n",
            "420/420 - 7s - loss: 0.6878 - accuracy: 0.5971 - val_loss: 0.6728 - val_accuracy: 0.6004 - 7s/epoch - 16ms/step\n",
            "Epoch 2/20\n",
            "420/420 - 4s - loss: 0.7076 - accuracy: 0.5983 - val_loss: 0.6741 - val_accuracy: 0.6004 - 4s/epoch - 9ms/step\n",
            "Epoch 3/20\n",
            "420/420 - 5s - loss: 0.6910 - accuracy: 0.5983 - val_loss: 0.6779 - val_accuracy: 0.6004 - 5s/epoch - 12ms/step\n",
            "Epoch 4/20\n",
            "420/420 - 4s - loss: 0.6759 - accuracy: 0.5984 - val_loss: 0.6734 - val_accuracy: 0.6004 - 4s/epoch - 9ms/step\n",
            "Epoch 5/20\n",
            "420/420 - 4s - loss: 0.6757 - accuracy: 0.5984 - val_loss: 0.6731 - val_accuracy: 0.6004 - 4s/epoch - 9ms/step\n",
            "Epoch 6/20\n",
            "420/420 - 7s - loss: 0.6756 - accuracy: 0.5971 - val_loss: 0.6778 - val_accuracy: 0.6004 - 7s/epoch - 16ms/step\n",
            "Epoch 7/20\n",
            "420/420 - 5s - loss: 0.6751 - accuracy: 0.5984 - val_loss: 0.6729 - val_accuracy: 0.6004 - 5s/epoch - 12ms/step\n",
            "Epoch 8/20\n",
            "420/420 - 4s - loss: 0.6758 - accuracy: 0.5984 - val_loss: 0.6729 - val_accuracy: 0.6004 - 4s/epoch - 10ms/step\n",
            "Epoch 9/20\n",
            "420/420 - 6s - loss: 0.6761 - accuracy: 0.5984 - val_loss: 0.6738 - val_accuracy: 0.6004 - 6s/epoch - 15ms/step\n",
            "Epoch 10/20\n",
            "420/420 - 5s - loss: 0.6762 - accuracy: 0.5984 - val_loss: 0.6735 - val_accuracy: 0.6004 - 5s/epoch - 13ms/step\n",
            "Epoch 11/20\n",
            "420/420 - 6s - loss: 0.6754 - accuracy: 0.5984 - val_loss: 0.6729 - val_accuracy: 0.6004 - 6s/epoch - 15ms/step\n",
            "Epoch 12/20\n",
            "420/420 - 4s - loss: 0.6748 - accuracy: 0.5984 - val_loss: 0.6733 - val_accuracy: 0.6004 - 4s/epoch - 11ms/step\n",
            "Epoch 13/20\n",
            "420/420 - 7s - loss: 0.6754 - accuracy: 0.5984 - val_loss: 0.6739 - val_accuracy: 0.6004 - 7s/epoch - 16ms/step\n",
            "Epoch 14/20\n",
            "420/420 - 4s - loss: 0.6761 - accuracy: 0.5984 - val_loss: 0.6751 - val_accuracy: 0.6004 - 4s/epoch - 10ms/step\n",
            "Epoch 15/20\n",
            "420/420 - 4s - loss: 0.6762 - accuracy: 0.5984 - val_loss: 0.6729 - val_accuracy: 0.6004 - 4s/epoch - 9ms/step\n",
            "Epoch 16/20\n",
            "420/420 - 5s - loss: 0.6754 - accuracy: 0.5984 - val_loss: 0.6733 - val_accuracy: 0.6004 - 5s/epoch - 12ms/step\n",
            "Epoch 17/20\n",
            "420/420 - 4s - loss: 0.6755 - accuracy: 0.5966 - val_loss: 0.6747 - val_accuracy: 0.6004 - 4s/epoch - 9ms/step\n",
            "Epoch 18/20\n",
            "420/420 - 5s - loss: 0.6760 - accuracy: 0.5984 - val_loss: 0.6732 - val_accuracy: 0.6004 - 5s/epoch - 11ms/step\n",
            "Epoch 19/20\n",
            "420/420 - 5s - loss: 0.6758 - accuracy: 0.5968 - val_loss: 0.6729 - val_accuracy: 0.6004 - 5s/epoch - 12ms/step\n",
            "Epoch 20/20\n",
            "420/420 - 4s - loss: 0.6753 - accuracy: 0.5984 - val_loss: 0.6729 - val_accuracy: 0.6004 - 4s/epoch - 10ms/step\n",
            "====================Batch size:  64  Learning rate:  0.1 ====================\n",
            "Epoch 1/20\n",
            "210/210 - 111s - loss: 0.4643 - accuracy: 0.7980 - val_loss: 0.3129 - val_accuracy: 0.8713 - 111s/epoch - 528ms/step\n",
            "Epoch 2/20\n",
            "210/210 - 3s - loss: 0.3218 - accuracy: 0.8798 - val_loss: 0.2550 - val_accuracy: 0.8906 - 3s/epoch - 16ms/step\n",
            "Epoch 3/20\n",
            "210/210 - 3s - loss: 0.2958 - accuracy: 0.8907 - val_loss: 0.3449 - val_accuracy: 0.9023 - 3s/epoch - 15ms/step\n",
            "Epoch 4/20\n",
            "210/210 - 3s - loss: 0.3690 - accuracy: 0.8668 - val_loss: 0.3434 - val_accuracy: 0.9008 - 3s/epoch - 14ms/step\n",
            "Epoch 5/20\n",
            "210/210 - 3s - loss: 0.3525 - accuracy: 0.8665 - val_loss: 0.3239 - val_accuracy: 0.8999 - 3s/epoch - 13ms/step\n",
            "Epoch 6/20\n",
            "210/210 - 3s - loss: 0.2952 - accuracy: 0.8899 - val_loss: 0.3781 - val_accuracy: 0.8594 - 3s/epoch - 16ms/step\n",
            "Epoch 7/20\n",
            "210/210 - 3s - loss: 0.2985 - accuracy: 0.8938 - val_loss: 0.2359 - val_accuracy: 0.9172 - 3s/epoch - 16ms/step\n",
            "Epoch 8/20\n",
            "210/210 - 3s - loss: 0.3240 - accuracy: 0.8833 - val_loss: 0.5399 - val_accuracy: 0.7405 - 3s/epoch - 14ms/step\n",
            "Epoch 9/20\n",
            "210/210 - 3s - loss: 0.4818 - accuracy: 0.8183 - val_loss: 0.4576 - val_accuracy: 0.8221 - 3s/epoch - 13ms/step\n",
            "Epoch 10/20\n",
            "210/210 - 3s - loss: 0.4732 - accuracy: 0.8219 - val_loss: 0.3673 - val_accuracy: 0.8969 - 3s/epoch - 16ms/step\n",
            "Epoch 11/20\n",
            "210/210 - 3s - loss: 0.4708 - accuracy: 0.8167 - val_loss: 0.3644 - val_accuracy: 0.8886 - 3s/epoch - 16ms/step\n",
            "Epoch 12/20\n",
            "210/210 - 3s - loss: 0.5512 - accuracy: 0.7417 - val_loss: 0.4561 - val_accuracy: 0.8153 - 3s/epoch - 13ms/step\n",
            "Epoch 13/20\n",
            "210/210 - 3s - loss: 0.5171 - accuracy: 0.7777 - val_loss: 0.4365 - val_accuracy: 0.8406 - 3s/epoch - 13ms/step\n",
            "Epoch 14/20\n",
            "210/210 - 3s - loss: 0.4929 - accuracy: 0.8035 - val_loss: 0.4211 - val_accuracy: 0.8760 - 3s/epoch - 15ms/step\n",
            "Epoch 15/20\n",
            "210/210 - 3s - loss: 0.4828 - accuracy: 0.8135 - val_loss: 0.3893 - val_accuracy: 0.8710 - 3s/epoch - 17ms/step\n",
            "Epoch 16/20\n",
            "210/210 - 3s - loss: 0.5039 - accuracy: 0.7765 - val_loss: 0.4739 - val_accuracy: 0.7902 - 3s/epoch - 13ms/step\n",
            "Epoch 17/20\n",
            "210/210 - 3s - loss: 0.5315 - accuracy: 0.7458 - val_loss: 0.5443 - val_accuracy: 0.7321 - 3s/epoch - 13ms/step\n",
            "Epoch 18/20\n",
            "210/210 - 3s - loss: 0.5405 - accuracy: 0.7414 - val_loss: 0.5018 - val_accuracy: 0.7732 - 3s/epoch - 13ms/step\n",
            "Epoch 19/20\n",
            "210/210 - 4s - loss: 0.5129 - accuracy: 0.7864 - val_loss: 0.4478 - val_accuracy: 0.8409 - 4s/epoch - 18ms/step\n",
            "Epoch 20/20\n",
            "210/210 - 3s - loss: 0.5222 - accuracy: 0.7795 - val_loss: 0.4396 - val_accuracy: 0.8549 - 3s/epoch - 13ms/step\n",
            "====================Batch size:  256  Learning rate:  0.1 ====================\n",
            "Epoch 1/20\n",
            "53/53 - 3s - loss: 0.6455 - accuracy: 0.7519 - val_loss: 0.2850 - val_accuracy: 0.8799 - 3s/epoch - 58ms/step\n",
            "Epoch 2/20\n",
            "53/53 - 2s - loss: 0.2431 - accuracy: 0.9041 - val_loss: 0.2098 - val_accuracy: 0.9169 - 2s/epoch - 30ms/step\n",
            "Epoch 3/20\n",
            "53/53 - 2s - loss: 0.1558 - accuracy: 0.9405 - val_loss: 0.2175 - val_accuracy: 0.9270 - 2s/epoch - 43ms/step\n",
            "Epoch 4/20\n",
            "53/53 - 2s - loss: 0.1181 - accuracy: 0.9544 - val_loss: 0.1728 - val_accuracy: 0.9336 - 2s/epoch - 41ms/step\n",
            "Epoch 5/20\n",
            "53/53 - 2s - loss: 0.1075 - accuracy: 0.9604 - val_loss: 0.1736 - val_accuracy: 0.9380 - 2s/epoch - 29ms/step\n",
            "Epoch 6/20\n",
            "53/53 - 2s - loss: 0.0987 - accuracy: 0.9617 - val_loss: 0.1887 - val_accuracy: 0.9341 - 2s/epoch - 30ms/step\n",
            "Epoch 7/20\n",
            "53/53 - 2s - loss: 0.0983 - accuracy: 0.9612 - val_loss: 0.2015 - val_accuracy: 0.9267 - 2s/epoch - 32ms/step\n",
            "Epoch 8/20\n",
            "53/53 - 2s - loss: 0.0866 - accuracy: 0.9671 - val_loss: 0.1909 - val_accuracy: 0.9338 - 2s/epoch - 30ms/step\n",
            "Epoch 9/20\n",
            "53/53 - 2s - loss: 0.0656 - accuracy: 0.9718 - val_loss: 0.2014 - val_accuracy: 0.9425 - 2s/epoch - 29ms/step\n",
            "Epoch 10/20\n",
            "53/53 - 2s - loss: 0.0741 - accuracy: 0.9703 - val_loss: 0.2045 - val_accuracy: 0.9389 - 2s/epoch - 37ms/step\n",
            "Epoch 11/20\n",
            "53/53 - 2s - loss: 0.0679 - accuracy: 0.9716 - val_loss: 0.2134 - val_accuracy: 0.9422 - 2s/epoch - 45ms/step\n",
            "Epoch 12/20\n",
            "53/53 - 2s - loss: 0.0631 - accuracy: 0.9767 - val_loss: 0.2441 - val_accuracy: 0.9416 - 2s/epoch - 32ms/step\n",
            "Epoch 13/20\n",
            "53/53 - 2s - loss: 0.0718 - accuracy: 0.9729 - val_loss: 0.2663 - val_accuracy: 0.9359 - 2s/epoch - 29ms/step\n",
            "Epoch 14/20\n",
            "53/53 - 2s - loss: 0.0678 - accuracy: 0.9732 - val_loss: 0.2270 - val_accuracy: 0.9434 - 2s/epoch - 32ms/step\n",
            "Epoch 15/20\n",
            "53/53 - 2s - loss: 0.0727 - accuracy: 0.9689 - val_loss: 0.2003 - val_accuracy: 0.9368 - 2s/epoch - 30ms/step\n",
            "Epoch 16/20\n",
            "53/53 - 2s - loss: 0.0872 - accuracy: 0.9724 - val_loss: 0.1929 - val_accuracy: 0.9333 - 2s/epoch - 30ms/step\n",
            "Epoch 17/20\n",
            "53/53 - 2s - loss: 0.0937 - accuracy: 0.9645 - val_loss: 0.2251 - val_accuracy: 0.9330 - 2s/epoch - 32ms/step\n",
            "Epoch 18/20\n",
            "53/53 - 3s - loss: 0.0754 - accuracy: 0.9671 - val_loss: 0.2233 - val_accuracy: 0.9401 - 3s/epoch - 51ms/step\n",
            "Epoch 19/20\n",
            "53/53 - 2s - loss: 0.0676 - accuracy: 0.9734 - val_loss: 0.2915 - val_accuracy: 0.9255 - 2s/epoch - 29ms/step\n",
            "Epoch 20/20\n",
            "53/53 - 2s - loss: 0.0721 - accuracy: 0.9728 - val_loss: 0.2926 - val_accuracy: 0.9428 - 2s/epoch - 29ms/step\n",
            "====================Batch size:  32  Learning rate:  0.01 ====================\n",
            "Epoch 1/20\n",
            "420/420 - 7s - loss: 0.2902 - accuracy: 0.8772 - val_loss: 0.1547 - val_accuracy: 0.9431 - 7s/epoch - 17ms/step\n",
            "Epoch 2/20\n",
            "420/420 - 4s - loss: 0.1100 - accuracy: 0.9603 - val_loss: 0.1444 - val_accuracy: 0.9479 - 4s/epoch - 10ms/step\n",
            "Epoch 3/20\n",
            "420/420 - 4s - loss: 0.0600 - accuracy: 0.9803 - val_loss: 0.1637 - val_accuracy: 0.9431 - 4s/epoch - 9ms/step\n",
            "Epoch 4/20\n",
            "420/420 - 5s - loss: 0.0404 - accuracy: 0.9868 - val_loss: 0.1504 - val_accuracy: 0.9514 - 5s/epoch - 11ms/step\n",
            "Epoch 5/20\n",
            "420/420 - 4s - loss: 0.0304 - accuracy: 0.9899 - val_loss: 0.2026 - val_accuracy: 0.9482 - 4s/epoch - 10ms/step\n",
            "Epoch 6/20\n",
            "420/420 - 5s - loss: 0.0230 - accuracy: 0.9928 - val_loss: 0.1376 - val_accuracy: 0.9571 - 5s/epoch - 12ms/step\n",
            "Epoch 7/20\n",
            "420/420 - 9s - loss: 0.0219 - accuracy: 0.9929 - val_loss: 0.1891 - val_accuracy: 0.9449 - 9s/epoch - 21ms/step\n",
            "Epoch 8/20\n",
            "420/420 - 6s - loss: 0.0213 - accuracy: 0.9939 - val_loss: 0.1530 - val_accuracy: 0.9479 - 6s/epoch - 15ms/step\n",
            "Epoch 9/20\n",
            "420/420 - 6s - loss: 0.0187 - accuracy: 0.9945 - val_loss: 0.1639 - val_accuracy: 0.9523 - 6s/epoch - 15ms/step\n",
            "Epoch 10/20\n",
            "420/420 - 7s - loss: 0.0126 - accuracy: 0.9961 - val_loss: 0.2308 - val_accuracy: 0.9529 - 7s/epoch - 17ms/step\n",
            "Epoch 11/20\n",
            "420/420 - 7s - loss: 0.0125 - accuracy: 0.9961 - val_loss: 0.2679 - val_accuracy: 0.9538 - 7s/epoch - 17ms/step\n",
            "Epoch 12/20\n",
            "420/420 - 10s - loss: 0.0165 - accuracy: 0.9944 - val_loss: 0.1518 - val_accuracy: 0.9553 - 10s/epoch - 24ms/step\n",
            "Epoch 13/20\n",
            "420/420 - 5s - loss: 0.0108 - accuracy: 0.9969 - val_loss: 0.2940 - val_accuracy: 0.9505 - 5s/epoch - 11ms/step\n",
            "Epoch 14/20\n",
            "420/420 - 5s - loss: 0.0130 - accuracy: 0.9962 - val_loss: 0.2607 - val_accuracy: 0.9553 - 5s/epoch - 11ms/step\n",
            "Epoch 15/20\n",
            "420/420 - 6s - loss: 0.0129 - accuracy: 0.9949 - val_loss: 0.3521 - val_accuracy: 0.9547 - 6s/epoch - 13ms/step\n",
            "Epoch 16/20\n",
            "420/420 - 5s - loss: 0.0136 - accuracy: 0.9961 - val_loss: 0.2464 - val_accuracy: 0.9550 - 5s/epoch - 13ms/step\n",
            "Epoch 17/20\n",
            "420/420 - 7s - loss: 0.0136 - accuracy: 0.9956 - val_loss: 0.1710 - val_accuracy: 0.9565 - 7s/epoch - 16ms/step\n",
            "Epoch 18/20\n",
            "420/420 - 5s - loss: 0.0106 - accuracy: 0.9968 - val_loss: 0.3898 - val_accuracy: 0.9523 - 5s/epoch - 12ms/step\n",
            "Epoch 19/20\n",
            "420/420 - 7s - loss: 0.0099 - accuracy: 0.9969 - val_loss: 0.2285 - val_accuracy: 0.9553 - 7s/epoch - 16ms/step\n",
            "Epoch 20/20\n",
            "420/420 - 4s - loss: 0.0112 - accuracy: 0.9971 - val_loss: 0.3698 - val_accuracy: 0.9505 - 4s/epoch - 11ms/step\n",
            "====================Batch size:  64  Learning rate:  0.01 ====================\n",
            "Epoch 1/20\n",
            "210/210 - 5s - loss: 0.3097 - accuracy: 0.8678 - val_loss: 0.1854 - val_accuracy: 0.9273 - 5s/epoch - 24ms/step\n",
            "Epoch 2/20\n",
            "210/210 - 3s - loss: 0.1083 - accuracy: 0.9626 - val_loss: 0.1658 - val_accuracy: 0.9350 - 3s/epoch - 13ms/step\n",
            "Epoch 3/20\n",
            "210/210 - 3s - loss: 0.0596 - accuracy: 0.9788 - val_loss: 0.1259 - val_accuracy: 0.9574 - 3s/epoch - 13ms/step\n",
            "Epoch 4/20\n",
            "210/210 - 3s - loss: 0.0361 - accuracy: 0.9870 - val_loss: 0.1679 - val_accuracy: 0.9493 - 3s/epoch - 13ms/step\n",
            "Epoch 5/20\n",
            "210/210 - 4s - loss: 0.0321 - accuracy: 0.9898 - val_loss: 0.2011 - val_accuracy: 0.9312 - 4s/epoch - 18ms/step\n",
            "Epoch 6/20\n",
            "210/210 - 3s - loss: 0.0233 - accuracy: 0.9931 - val_loss: 0.1766 - val_accuracy: 0.9479 - 3s/epoch - 13ms/step\n",
            "Epoch 7/20\n",
            "210/210 - 3s - loss: 0.0235 - accuracy: 0.9923 - val_loss: 0.1450 - val_accuracy: 0.9526 - 3s/epoch - 13ms/step\n",
            "Epoch 8/20\n",
            "210/210 - 3s - loss: 0.0133 - accuracy: 0.9955 - val_loss: 0.1599 - val_accuracy: 0.9505 - 3s/epoch - 15ms/step\n",
            "Epoch 9/20\n",
            "210/210 - 3s - loss: 0.0164 - accuracy: 0.9946 - val_loss: 0.2005 - val_accuracy: 0.9467 - 3s/epoch - 16ms/step\n",
            "Epoch 10/20\n",
            "210/210 - 3s - loss: 0.0112 - accuracy: 0.9962 - val_loss: 0.2127 - val_accuracy: 0.9449 - 3s/epoch - 14ms/step\n",
            "Epoch 11/20\n",
            "210/210 - 3s - loss: 0.0182 - accuracy: 0.9942 - val_loss: 0.1967 - val_accuracy: 0.9482 - 3s/epoch - 13ms/step\n",
            "Epoch 12/20\n",
            "210/210 - 3s - loss: 0.0123 - accuracy: 0.9958 - val_loss: 0.2231 - val_accuracy: 0.9565 - 3s/epoch - 13ms/step\n",
            "Epoch 13/20\n",
            "210/210 - 3s - loss: 0.0131 - accuracy: 0.9953 - val_loss: 0.2464 - val_accuracy: 0.9440 - 3s/epoch - 15ms/step\n",
            "Epoch 14/20\n",
            "210/210 - 3s - loss: 0.0065 - accuracy: 0.9978 - val_loss: 0.2851 - val_accuracy: 0.9547 - 3s/epoch - 16ms/step\n",
            "Epoch 15/20\n",
            "210/210 - 3s - loss: 0.0096 - accuracy: 0.9963 - val_loss: 0.2315 - val_accuracy: 0.9580 - 3s/epoch - 13ms/step\n",
            "Epoch 16/20\n",
            "210/210 - 3s - loss: 0.0089 - accuracy: 0.9966 - val_loss: 0.2414 - val_accuracy: 0.9467 - 3s/epoch - 13ms/step\n",
            "Epoch 17/20\n",
            "210/210 - 3s - loss: 0.0137 - accuracy: 0.9961 - val_loss: 0.2600 - val_accuracy: 0.9502 - 3s/epoch - 13ms/step\n",
            "Epoch 18/20\n",
            "210/210 - 4s - loss: 0.0119 - accuracy: 0.9960 - val_loss: 0.3000 - val_accuracy: 0.9490 - 4s/epoch - 17ms/step\n",
            "Epoch 19/20\n",
            "210/210 - 3s - loss: 0.0154 - accuracy: 0.9960 - val_loss: 0.1922 - val_accuracy: 0.9526 - 3s/epoch - 13ms/step\n",
            "Epoch 20/20\n",
            "210/210 - 3s - loss: 0.0109 - accuracy: 0.9962 - val_loss: 0.2768 - val_accuracy: 0.9496 - 3s/epoch - 13ms/step\n",
            "====================Batch size:  256  Learning rate:  0.01 ====================\n",
            "Epoch 1/20\n",
            "53/53 - 5s - loss: 0.3814 - accuracy: 0.8246 - val_loss: 0.2052 - val_accuracy: 0.9175 - 5s/epoch - 95ms/step\n",
            "Epoch 2/20\n",
            "53/53 - 2s - loss: 0.1181 - accuracy: 0.9597 - val_loss: 0.1642 - val_accuracy: 0.9413 - 2s/epoch - 46ms/step\n",
            "Epoch 3/20\n",
            "53/53 - 2s - loss: 0.0564 - accuracy: 0.9803 - val_loss: 0.1486 - val_accuracy: 0.9487 - 2s/epoch - 32ms/step\n",
            "Epoch 4/20\n",
            "53/53 - 2s - loss: 0.0312 - accuracy: 0.9903 - val_loss: 0.1839 - val_accuracy: 0.9479 - 2s/epoch - 32ms/step\n",
            "Epoch 5/20\n",
            "53/53 - 2s - loss: 0.0273 - accuracy: 0.9908 - val_loss: 0.1822 - val_accuracy: 0.9464 - 2s/epoch - 29ms/step\n",
            "Epoch 6/20\n",
            "53/53 - 2s - loss: 0.0232 - accuracy: 0.9917 - val_loss: 0.1861 - val_accuracy: 0.9413 - 2s/epoch - 29ms/step\n",
            "Epoch 7/20\n",
            "53/53 - 2s - loss: 0.0168 - accuracy: 0.9938 - val_loss: 0.2160 - val_accuracy: 0.9434 - 2s/epoch - 29ms/step\n",
            "Epoch 8/20\n",
            "53/53 - 2s - loss: 0.0160 - accuracy: 0.9946 - val_loss: 0.1898 - val_accuracy: 0.9479 - 2s/epoch - 32ms/step\n",
            "Epoch 9/20\n",
            "53/53 - 3s - loss: 0.0156 - accuracy: 0.9948 - val_loss: 0.1956 - val_accuracy: 0.9407 - 3s/epoch - 53ms/step\n",
            "Epoch 10/20\n",
            "53/53 - 2s - loss: 0.0078 - accuracy: 0.9975 - val_loss: 0.2447 - val_accuracy: 0.9425 - 2s/epoch - 29ms/step\n",
            "Epoch 11/20\n",
            "53/53 - 2s - loss: 0.0078 - accuracy: 0.9975 - val_loss: 0.2170 - val_accuracy: 0.9520 - 2s/epoch - 32ms/step\n",
            "Epoch 12/20\n",
            "53/53 - 2s - loss: 0.0056 - accuracy: 0.9981 - val_loss: 0.2713 - val_accuracy: 0.9508 - 2s/epoch - 32ms/step\n",
            "Epoch 13/20\n",
            "53/53 - 2s - loss: 0.0082 - accuracy: 0.9975 - val_loss: 0.2949 - val_accuracy: 0.9294 - 2s/epoch - 29ms/step\n",
            "Epoch 14/20\n",
            "53/53 - 2s - loss: 0.0110 - accuracy: 0.9960 - val_loss: 0.2481 - val_accuracy: 0.9416 - 2s/epoch - 32ms/step\n",
            "Epoch 15/20\n",
            "53/53 - 2s - loss: 0.0081 - accuracy: 0.9980 - val_loss: 0.2750 - val_accuracy: 0.9476 - 2s/epoch - 36ms/step\n",
            "Epoch 16/20\n",
            "53/53 - 3s - loss: 0.0086 - accuracy: 0.9970 - val_loss: 0.2498 - val_accuracy: 0.9482 - 3s/epoch - 54ms/step\n",
            "Epoch 17/20\n",
            "53/53 - 2s - loss: 0.0085 - accuracy: 0.9973 - val_loss: 0.2714 - val_accuracy: 0.9377 - 2s/epoch - 44ms/step\n",
            "Epoch 18/20\n",
            "53/53 - 1s - loss: 0.0081 - accuracy: 0.9975 - val_loss: 0.2485 - val_accuracy: 0.9496 - 1s/epoch - 28ms/step\n",
            "Epoch 19/20\n",
            "53/53 - 2s - loss: 0.0090 - accuracy: 0.9978 - val_loss: 0.2115 - val_accuracy: 0.9482 - 2s/epoch - 29ms/step\n",
            "Epoch 20/20\n",
            "53/53 - 1s - loss: 0.0051 - accuracy: 0.9985 - val_loss: 0.2591 - val_accuracy: 0.9482 - 1s/epoch - 28ms/step\n",
            "====================Batch size:  32  Learning rate:  0.001 ====================\n",
            "Epoch 1/20\n",
            "420/420 - 6s - loss: 0.3346 - accuracy: 0.8468 - val_loss: 0.1698 - val_accuracy: 0.9413 - 6s/epoch - 14ms/step\n",
            "Epoch 2/20\n",
            "420/420 - 4s - loss: 0.1054 - accuracy: 0.9629 - val_loss: 0.1278 - val_accuracy: 0.9538 - 4s/epoch - 10ms/step\n",
            "Epoch 3/20\n",
            "420/420 - 4s - loss: 0.0560 - accuracy: 0.9808 - val_loss: 0.1297 - val_accuracy: 0.9508 - 4s/epoch - 9ms/step\n",
            "Epoch 4/20\n",
            "420/420 - 5s - loss: 0.0356 - accuracy: 0.9879 - val_loss: 0.1174 - val_accuracy: 0.9625 - 5s/epoch - 11ms/step\n",
            "Epoch 5/20\n",
            "420/420 - 4s - loss: 0.0192 - accuracy: 0.9934 - val_loss: 0.1342 - val_accuracy: 0.9616 - 4s/epoch - 10ms/step\n",
            "Epoch 6/20\n",
            "420/420 - 4s - loss: 0.0160 - accuracy: 0.9943 - val_loss: 0.1757 - val_accuracy: 0.9428 - 4s/epoch - 9ms/step\n",
            "Epoch 7/20\n",
            "420/420 - 4s - loss: 0.0135 - accuracy: 0.9957 - val_loss: 0.1596 - val_accuracy: 0.9580 - 4s/epoch - 11ms/step\n",
            "Epoch 8/20\n",
            "420/420 - 4s - loss: 0.0092 - accuracy: 0.9972 - val_loss: 0.1491 - val_accuracy: 0.9619 - 4s/epoch - 10ms/step\n",
            "Epoch 9/20\n",
            "420/420 - 4s - loss: 0.0094 - accuracy: 0.9969 - val_loss: 0.1678 - val_accuracy: 0.9520 - 4s/epoch - 9ms/step\n",
            "Epoch 10/20\n",
            "420/420 - 5s - loss: 0.0077 - accuracy: 0.9974 - val_loss: 0.1650 - val_accuracy: 0.9580 - 5s/epoch - 11ms/step\n",
            "Epoch 11/20\n",
            "420/420 - 4s - loss: 0.0089 - accuracy: 0.9969 - val_loss: 0.1745 - val_accuracy: 0.9625 - 4s/epoch - 10ms/step\n",
            "Epoch 12/20\n",
            "420/420 - 4s - loss: 0.0078 - accuracy: 0.9972 - val_loss: 0.1720 - val_accuracy: 0.9625 - 4s/epoch - 9ms/step\n",
            "Epoch 13/20\n",
            "420/420 - 5s - loss: 0.0072 - accuracy: 0.9973 - val_loss: 0.1690 - val_accuracy: 0.9636 - 5s/epoch - 11ms/step\n",
            "Epoch 14/20\n",
            "420/420 - 4s - loss: 0.0044 - accuracy: 0.9985 - val_loss: 0.1862 - val_accuracy: 0.9628 - 4s/epoch - 10ms/step\n",
            "Epoch 15/20\n",
            "420/420 - 4s - loss: 0.0063 - accuracy: 0.9979 - val_loss: 0.1864 - val_accuracy: 0.9541 - 4s/epoch - 9ms/step\n",
            "Epoch 16/20\n",
            "420/420 - 4s - loss: 0.0052 - accuracy: 0.9986 - val_loss: 0.1565 - val_accuracy: 0.9604 - 4s/epoch - 11ms/step\n",
            "Epoch 17/20\n",
            "420/420 - 4s - loss: 0.0044 - accuracy: 0.9986 - val_loss: 0.1641 - val_accuracy: 0.9636 - 4s/epoch - 10ms/step\n",
            "Epoch 18/20\n",
            "420/420 - 4s - loss: 0.0039 - accuracy: 0.9989 - val_loss: 0.1992 - val_accuracy: 0.9601 - 4s/epoch - 9ms/step\n",
            "Epoch 19/20\n",
            "420/420 - 5s - loss: 0.0037 - accuracy: 0.9988 - val_loss: 0.2073 - val_accuracy: 0.9529 - 5s/epoch - 11ms/step\n",
            "Epoch 20/20\n",
            "420/420 - 4s - loss: 0.0036 - accuracy: 0.9987 - val_loss: 0.1854 - val_accuracy: 0.9616 - 4s/epoch - 10ms/step\n",
            "====================Batch size:  64  Learning rate:  0.001 ====================\n",
            "Epoch 1/20\n",
            "210/210 - 4s - loss: 0.4185 - accuracy: 0.7957 - val_loss: 0.2006 - val_accuracy: 0.9204 - 4s/epoch - 19ms/step\n",
            "Epoch 2/20\n",
            "210/210 - 3s - loss: 0.1401 - accuracy: 0.9515 - val_loss: 0.1462 - val_accuracy: 0.9449 - 3s/epoch - 13ms/step\n",
            "Epoch 3/20\n",
            "210/210 - 4s - loss: 0.0666 - accuracy: 0.9779 - val_loss: 0.1325 - val_accuracy: 0.9517 - 4s/epoch - 17ms/step\n",
            "Epoch 4/20\n",
            "210/210 - 3s - loss: 0.0400 - accuracy: 0.9873 - val_loss: 0.1325 - val_accuracy: 0.9547 - 3s/epoch - 13ms/step\n",
            "Epoch 5/20\n",
            "210/210 - 3s - loss: 0.0260 - accuracy: 0.9914 - val_loss: 0.1341 - val_accuracy: 0.9571 - 3s/epoch - 13ms/step\n",
            "Epoch 6/20\n",
            "210/210 - 3s - loss: 0.0165 - accuracy: 0.9951 - val_loss: 0.1438 - val_accuracy: 0.9559 - 3s/epoch - 13ms/step\n",
            "Epoch 7/20\n",
            "210/210 - 3s - loss: 0.0103 - accuracy: 0.9966 - val_loss: 0.1371 - val_accuracy: 0.9592 - 3s/epoch - 17ms/step\n",
            "Epoch 8/20\n",
            "210/210 - 3s - loss: 0.0098 - accuracy: 0.9963 - val_loss: 0.1506 - val_accuracy: 0.9577 - 3s/epoch - 14ms/step\n",
            "Epoch 9/20\n",
            "210/210 - 4s - loss: 0.0117 - accuracy: 0.9957 - val_loss: 0.1620 - val_accuracy: 0.9550 - 4s/epoch - 17ms/step\n",
            "Epoch 10/20\n",
            "210/210 - 3s - loss: 0.0083 - accuracy: 0.9972 - val_loss: 0.1611 - val_accuracy: 0.9622 - 3s/epoch - 13ms/step\n",
            "Epoch 11/20\n",
            "210/210 - 4s - loss: 0.0073 - accuracy: 0.9972 - val_loss: 0.1479 - val_accuracy: 0.9631 - 4s/epoch - 18ms/step\n",
            "Epoch 12/20\n",
            "210/210 - 3s - loss: 0.0026 - accuracy: 0.9994 - val_loss: 0.1554 - val_accuracy: 0.9622 - 3s/epoch - 13ms/step\n",
            "Epoch 13/20\n",
            "210/210 - 3s - loss: 0.0098 - accuracy: 0.9966 - val_loss: 0.1870 - val_accuracy: 0.9601 - 3s/epoch - 13ms/step\n",
            "Epoch 14/20\n",
            "210/210 - 3s - loss: 0.0085 - accuracy: 0.9973 - val_loss: 0.2073 - val_accuracy: 0.9461 - 3s/epoch - 13ms/step\n",
            "Epoch 15/20\n",
            "210/210 - 4s - loss: 0.0049 - accuracy: 0.9986 - val_loss: 0.1762 - val_accuracy: 0.9574 - 4s/epoch - 21ms/step\n",
            "Epoch 16/20\n",
            "210/210 - 4s - loss: 0.0054 - accuracy: 0.9984 - val_loss: 0.1418 - val_accuracy: 0.9639 - 4s/epoch - 17ms/step\n",
            "Epoch 17/20\n",
            "210/210 - 3s - loss: 0.0039 - accuracy: 0.9990 - val_loss: 0.1551 - val_accuracy: 0.9651 - 3s/epoch - 13ms/step\n",
            "Epoch 18/20\n",
            "210/210 - 3s - loss: 0.0031 - accuracy: 0.9990 - val_loss: 0.1603 - val_accuracy: 0.9625 - 3s/epoch - 13ms/step\n",
            "Epoch 19/20\n",
            "210/210 - 3s - loss: 0.0020 - accuracy: 0.9995 - val_loss: 0.1793 - val_accuracy: 0.9648 - 3s/epoch - 15ms/step\n",
            "Epoch 20/20\n",
            "210/210 - 3s - loss: 0.0013 - accuracy: 0.9996 - val_loss: 0.1705 - val_accuracy: 0.9657 - 3s/epoch - 15ms/step\n",
            "====================Batch size:  256  Learning rate:  0.001 ====================\n",
            "Epoch 1/20\n",
            "53/53 - 3s - loss: 0.6073 - accuracy: 0.6909 - val_loss: 0.4302 - val_accuracy: 0.8313 - 3s/epoch - 58ms/step\n",
            "Epoch 2/20\n",
            "53/53 - 2s - loss: 0.3187 - accuracy: 0.8723 - val_loss: 0.2224 - val_accuracy: 0.9127 - 2s/epoch - 28ms/step\n",
            "Epoch 3/20\n",
            "53/53 - 2s - loss: 0.1522 - accuracy: 0.9482 - val_loss: 0.1674 - val_accuracy: 0.9321 - 2s/epoch - 29ms/step\n",
            "Epoch 4/20\n",
            "53/53 - 2s - loss: 0.0848 - accuracy: 0.9727 - val_loss: 0.1380 - val_accuracy: 0.9473 - 2s/epoch - 34ms/step\n",
            "Epoch 5/20\n",
            "53/53 - 2s - loss: 0.0515 - accuracy: 0.9847 - val_loss: 0.1356 - val_accuracy: 0.9562 - 2s/epoch - 45ms/step\n",
            "Epoch 6/20\n",
            "53/53 - 1s - loss: 0.0393 - accuracy: 0.9887 - val_loss: 0.1316 - val_accuracy: 0.9508 - 1s/epoch - 28ms/step\n",
            "Epoch 7/20\n",
            "53/53 - 2s - loss: 0.0295 - accuracy: 0.9907 - val_loss: 0.1678 - val_accuracy: 0.9407 - 2s/epoch - 31ms/step\n",
            "Epoch 8/20\n",
            "53/53 - 2s - loss: 0.0210 - accuracy: 0.9934 - val_loss: 0.1313 - val_accuracy: 0.9550 - 2s/epoch - 28ms/step\n",
            "Epoch 9/20\n",
            "53/53 - 2s - loss: 0.0141 - accuracy: 0.9966 - val_loss: 0.1473 - val_accuracy: 0.9517 - 2s/epoch - 28ms/step\n",
            "Epoch 10/20\n",
            "53/53 - 1s - loss: 0.0108 - accuracy: 0.9975 - val_loss: 0.1404 - val_accuracy: 0.9550 - 1s/epoch - 28ms/step\n",
            "Epoch 11/20\n",
            "53/53 - 2s - loss: 0.0073 - accuracy: 0.9984 - val_loss: 0.1500 - val_accuracy: 0.9583 - 2s/epoch - 29ms/step\n",
            "Epoch 12/20\n",
            "53/53 - 2s - loss: 0.0081 - accuracy: 0.9979 - val_loss: 0.1490 - val_accuracy: 0.9601 - 2s/epoch - 44ms/step\n",
            "Epoch 13/20\n",
            "53/53 - 2s - loss: 0.0064 - accuracy: 0.9981 - val_loss: 0.1700 - val_accuracy: 0.9526 - 2s/epoch - 36ms/step\n",
            "Epoch 14/20\n",
            "53/53 - 2s - loss: 0.0062 - accuracy: 0.9981 - val_loss: 0.1603 - val_accuracy: 0.9589 - 2s/epoch - 29ms/step\n",
            "Epoch 15/20\n",
            "53/53 - 1s - loss: 0.0056 - accuracy: 0.9986 - val_loss: 0.1681 - val_accuracy: 0.9541 - 1s/epoch - 28ms/step\n",
            "Epoch 16/20\n",
            "53/53 - 2s - loss: 0.0039 - accuracy: 0.9993 - val_loss: 0.1713 - val_accuracy: 0.9571 - 2s/epoch - 29ms/step\n",
            "Epoch 17/20\n",
            "53/53 - 2s - loss: 0.0041 - accuracy: 0.9991 - val_loss: 0.1708 - val_accuracy: 0.9562 - 2s/epoch - 29ms/step\n",
            "Epoch 18/20\n",
            "53/53 - 2s - loss: 0.0032 - accuracy: 0.9990 - val_loss: 0.1748 - val_accuracy: 0.9604 - 2s/epoch - 29ms/step\n",
            "Epoch 19/20\n",
            "53/53 - 2s - loss: 0.0036 - accuracy: 0.9990 - val_loss: 0.1692 - val_accuracy: 0.9577 - 2s/epoch - 30ms/step\n",
            "Epoch 20/20\n",
            "53/53 - 3s - loss: 0.0029 - accuracy: 0.9993 - val_loss: 0.1763 - val_accuracy: 0.9607 - 3s/epoch - 50ms/step\n"
          ]
        }
      ]
    },
    {
      "cell_type": "markdown",
      "source": [
        "<a id=\"ch8\"></a>\n",
        "# 8. Model evaluation"
      ],
      "metadata": {
        "id": "tpf2ZYF4-Q11"
      }
    },
    {
      "cell_type": "code",
      "source": [
        "count = -1\n",
        "for model in models:\n",
        "  predict_x_test=model.predict(X_test)\n",
        "  predict_x_test[predict_x_test <= 0.5] = 0.\n",
        "  predict_x_test[predict_x_test > 0.5] = 1.\n",
        "  count = count + 1\n",
        "  learning_rate = models[count].optimizer.learning_rate.numpy()\n",
        "  batch = batch_size[count%len(learning_rates)]\n",
        "  print(\"============\"+ \" Learning rate: \" + str(learning_rate)+\" Batch Size: \"+str(batch) + \" ============\")\n",
        "  print('Testing Classification Report')\n",
        "  print(classification_report(y_test, predict_x_test))\n",
        "  print('Testing Confusion Matirx:')\n",
        "  print(confusion_matrix(y_test, predict_x_test))\n",
        "  print(\"\\n\")"
      ],
      "metadata": {
        "colab": {
          "base_uri": "https://localhost:8080/"
        },
        "id": "PJ9_fb3BAQdg",
        "outputId": "f09697ce-c894-4525-9a1d-601c31a2ea58"
      },
      "execution_count": 79,
      "outputs": [
        {
          "output_type": "stream",
          "name": "stdout",
          "text": [
            "105/105 [==============================] - 0s 3ms/step\n",
            "============ Learning rate: 0.1 Batch Size: 32 ============\n",
            "Testing Classification Report\n",
            "              precision    recall  f1-score   support\n",
            "\n",
            "         0.0       0.00      0.00      0.00      1341\n",
            "         1.0       0.60      1.00      0.75      2015\n",
            "\n",
            "    accuracy                           0.60      3356\n",
            "   macro avg       0.30      0.50      0.38      3356\n",
            "weighted avg       0.36      0.60      0.45      3356\n",
            "\n",
            "Testing Confusion Matirx:\n",
            "[[   0 1341]\n",
            " [   0 2015]]\n",
            "\n",
            "\n"
          ]
        },
        {
          "output_type": "stream",
          "name": "stderr",
          "text": [
            "/usr/local/lib/python3.10/dist-packages/sklearn/metrics/_classification.py:1344: UndefinedMetricWarning: Precision and F-score are ill-defined and being set to 0.0 in labels with no predicted samples. Use `zero_division` parameter to control this behavior.\n",
            "  _warn_prf(average, modifier, msg_start, len(result))\n",
            "/usr/local/lib/python3.10/dist-packages/sklearn/metrics/_classification.py:1344: UndefinedMetricWarning: Precision and F-score are ill-defined and being set to 0.0 in labels with no predicted samples. Use `zero_division` parameter to control this behavior.\n",
            "  _warn_prf(average, modifier, msg_start, len(result))\n",
            "/usr/local/lib/python3.10/dist-packages/sklearn/metrics/_classification.py:1344: UndefinedMetricWarning: Precision and F-score are ill-defined and being set to 0.0 in labels with no predicted samples. Use `zero_division` parameter to control this behavior.\n",
            "  _warn_prf(average, modifier, msg_start, len(result))\n"
          ]
        },
        {
          "output_type": "stream",
          "name": "stdout",
          "text": [
            "105/105 [==============================] - 1s 5ms/step\n",
            "============ Learning rate: 0.1 Batch Size: 64 ============\n",
            "Testing Classification Report\n",
            "              precision    recall  f1-score   support\n",
            "\n",
            "         0.0       0.92      0.70      0.79      1341\n",
            "         1.0       0.83      0.96      0.89      2015\n",
            "\n",
            "    accuracy                           0.85      3356\n",
            "   macro avg       0.87      0.83      0.84      3356\n",
            "weighted avg       0.86      0.85      0.85      3356\n",
            "\n",
            "Testing Confusion Matirx:\n",
            "[[ 939  402]\n",
            " [  85 1930]]\n",
            "\n",
            "\n",
            "105/105 [==============================] - 1s 5ms/step\n",
            "============ Learning rate: 0.1 Batch Size: 256 ============\n",
            "Testing Classification Report\n",
            "              precision    recall  f1-score   support\n",
            "\n",
            "         0.0       0.95      0.90      0.93      1341\n",
            "         1.0       0.94      0.97      0.95      2015\n",
            "\n",
            "    accuracy                           0.94      3356\n",
            "   macro avg       0.94      0.94      0.94      3356\n",
            "weighted avg       0.94      0.94      0.94      3356\n",
            "\n",
            "Testing Confusion Matirx:\n",
            "[[1210  131]\n",
            " [  61 1954]]\n",
            "\n",
            "\n",
            "105/105 [==============================] - 0s 4ms/step\n",
            "============ Learning rate: 0.01 Batch Size: 32 ============\n",
            "Testing Classification Report\n",
            "              precision    recall  f1-score   support\n",
            "\n",
            "         0.0       0.93      0.95      0.94      1341\n",
            "         1.0       0.97      0.95      0.96      2015\n",
            "\n",
            "    accuracy                           0.95      3356\n",
            "   macro avg       0.95      0.95      0.95      3356\n",
            "weighted avg       0.95      0.95      0.95      3356\n",
            "\n",
            "Testing Confusion Matirx:\n",
            "[[1278   63]\n",
            " [ 103 1912]]\n",
            "\n",
            "\n",
            "105/105 [==============================] - 0s 3ms/step\n",
            "============ Learning rate: 0.01 Batch Size: 64 ============\n",
            "Testing Classification Report\n",
            "              precision    recall  f1-score   support\n",
            "\n",
            "         0.0       0.92      0.96      0.94      1341\n",
            "         1.0       0.97      0.94      0.96      2015\n",
            "\n",
            "    accuracy                           0.95      3356\n",
            "   macro avg       0.95      0.95      0.95      3356\n",
            "weighted avg       0.95      0.95      0.95      3356\n",
            "\n",
            "Testing Confusion Matirx:\n",
            "[[1289   52]\n",
            " [ 117 1898]]\n",
            "\n",
            "\n",
            "105/105 [==============================] - 0s 3ms/step\n",
            "============ Learning rate: 0.01 Batch Size: 256 ============\n",
            "Testing Classification Report\n",
            "              precision    recall  f1-score   support\n",
            "\n",
            "         0.0       0.92      0.95      0.94      1341\n",
            "         1.0       0.97      0.95      0.96      2015\n",
            "\n",
            "    accuracy                           0.95      3356\n",
            "   macro avg       0.94      0.95      0.95      3356\n",
            "weighted avg       0.95      0.95      0.95      3356\n",
            "\n",
            "Testing Confusion Matirx:\n",
            "[[1273   68]\n",
            " [ 106 1909]]\n",
            "\n",
            "\n",
            "105/105 [==============================] - 0s 3ms/step\n",
            "============ Learning rate: 0.001 Batch Size: 32 ============\n",
            "Testing Classification Report\n",
            "              precision    recall  f1-score   support\n",
            "\n",
            "         0.0       0.95      0.95      0.95      1341\n",
            "         1.0       0.97      0.97      0.97      2015\n",
            "\n",
            "    accuracy                           0.96      3356\n",
            "   macro avg       0.96      0.96      0.96      3356\n",
            "weighted avg       0.96      0.96      0.96      3356\n",
            "\n",
            "Testing Confusion Matirx:\n",
            "[[1273   68]\n",
            " [  61 1954]]\n",
            "\n",
            "\n",
            "105/105 [==============================] - 0s 3ms/step\n",
            "============ Learning rate: 0.001 Batch Size: 64 ============\n",
            "Testing Classification Report\n",
            "              precision    recall  f1-score   support\n",
            "\n",
            "         0.0       0.96      0.95      0.96      1341\n",
            "         1.0       0.97      0.97      0.97      2015\n",
            "\n",
            "    accuracy                           0.97      3356\n",
            "   macro avg       0.96      0.96      0.96      3356\n",
            "weighted avg       0.97      0.97      0.97      3356\n",
            "\n",
            "Testing Confusion Matirx:\n",
            "[[1278   63]\n",
            " [  52 1963]]\n",
            "\n",
            "\n",
            "105/105 [==============================] - 0s 3ms/step\n",
            "============ Learning rate: 0.001 Batch Size: 256 ============\n",
            "Testing Classification Report\n",
            "              precision    recall  f1-score   support\n",
            "\n",
            "         0.0       0.95      0.95      0.95      1341\n",
            "         1.0       0.97      0.97      0.97      2015\n",
            "\n",
            "    accuracy                           0.96      3356\n",
            "   macro avg       0.96      0.96      0.96      3356\n",
            "weighted avg       0.96      0.96      0.96      3356\n",
            "\n",
            "Testing Confusion Matirx:\n",
            "[[1276   65]\n",
            " [  67 1948]]\n",
            "\n",
            "\n"
          ]
        }
      ]
    },
    {
      "cell_type": "code",
      "source": [
        "for count, history in enumerate(histories):\n",
        "  train_acc = history.history['val_accuracy']\n",
        "  learning_rate = learning_rates[int(count/len(batch_size))]\n",
        "  batch = batch_size[count%len(learning_rates)]\n",
        "  if ((learning_rate == 0.1 and batch == 64 ) == False and (learning_rate == 0.1 and batch == 32) == False):\n",
        "    plt.plot(train_acc, label=\"LR: \"+str(learning_rate)+\" Batch Size: \"+str(batch))\n",
        "plt.title('Optimization of Hyperperameters')\n",
        "plt.xlabel('Epochs')\n",
        "plt.ylabel('Training accuracy')\n",
        "plt.legend()\n",
        "plt.show()"
      ],
      "metadata": {
        "colab": {
          "base_uri": "https://localhost:8080/",
          "height": 472
        },
        "id": "jh1RbB7v7w-y",
        "outputId": "53d09738-625b-4546-e30e-dcf2869507c2"
      },
      "execution_count": 97,
      "outputs": [
        {
          "output_type": "display_data",
          "data": {
            "text/plain": [
              "<Figure size 640x480 with 1 Axes>"
            ],
            "image/png": "[encoded data removed]"
          },
          "metadata": {}
        }
      ]
    }
  ]
}