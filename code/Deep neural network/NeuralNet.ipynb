{
  "nbformat": 4,
  "nbformat_minor": 0,
  "metadata": {
    "colab": {
      "provenance": []
    },
    "kernelspec": {
      "name": "python3",
      "display_name": "Python 3"
    },
    "language_info": {
      "name": "python"
    }
  },
  "cells": [
    {
      "cell_type": "code",
      "execution_count": 1,
      "metadata": {
        "id": "ovBHYkjm9b2h"
      },
      "outputs": [],
      "source": [
        "import pandas as pd\n",
        "import matplotlib.pyplot as plt\n",
        "import seaborn as sns\n",
        "import tensorflow as tf\n",
        "from tensorflow import keras\n",
        "from tensorflow.keras.layers import Dense, Activation, Dropout\n",
        "import numpy as np\n"
      ]
    },
    {
      "cell_type": "code",
      "source": [
        "loan_df = pd.read_csv(\"loan_train_sampled.csv\")\n",
        "loan_df.head()"
      ],
      "metadata": {
        "colab": {
          "base_uri": "https://localhost:8080/",
          "height": 386
        },
        "id": "iyeXgdD0-Vhe",
        "outputId": "5b60e0f6-d7fe-4267-dfc9-76f8f3d13c2e"
      },
      "execution_count": 3,
      "outputs": [
        {
          "output_type": "execute_result",
          "data": {
            "text/plain": [
              "   loan_amnt  funded_amnt  funded_amnt_inv        term  int_rate grade  \\\n",
              "0       6000         6000       6000.00000   36 months     10.59     B   \n",
              "1      14000        14000      13991.39746   36 months     19.82     G   \n",
              "2      15000        15000      14700.00000   36 months     11.14     B   \n",
              "3       8000         8000       7775.00000   36 months      7.14     A   \n",
              "4      20500        12625      12625.00000   60 months     20.89     F   \n",
              "\n",
              "  sub_grade  emp_length home_ownership  annual_inc  ... total_rec_int  \\\n",
              "0        B2          10       MORTGAGE    130000.0  ...        751.93   \n",
              "1        G1           4           RENT     40000.0  ...       4686.01   \n",
              "2        B1           7           RENT     36700.0  ...       1979.51   \n",
              "3        A3          10           RENT    126252.0  ...        384.99   \n",
              "4        F1           9       MORTGAGE     54000.0  ...       7502.09   \n",
              "\n",
              "  total_rec_late_fee recoveries collection_recovery_fee last_pymnt_d  \\\n",
              "0                0.0        0.0                     0.0       Jan-13   \n",
              "1                0.0        0.0                     0.0       Jan-13   \n",
              "2                0.0        0.0                     0.0       Mar-11   \n",
              "3                0.0        0.0                     0.0       Apr-11   \n",
              "4                0.0        0.0                     0.0       Mar-16   \n",
              "\n",
              "   last_pymnt_amnt  last_credit_pull_d collections_12_mths_ex_med  \\\n",
              "0          3441.52              May-13                          0   \n",
              "1           554.99              Dec-15                          0   \n",
              "2          8616.51              May-16                          0   \n",
              "3          6409.52              Mar-16                          0   \n",
              "4            88.58              Mar-16                          0   \n",
              "\n",
              "   pub_rec_bankruptcies  loan_status  \n",
              "0                     0   Fully Paid  \n",
              "1                     0   Fully Paid  \n",
              "2                     0   Fully Paid  \n",
              "3                     0   Fully Paid  \n",
              "4                     0   Fully Paid  \n",
              "\n",
              "[5 rows x 39 columns]"
            ],
            "text/html": [
              "\n",
              "  <div id=\"df-3bcd42ca-4c18-49b9-9510-27a5f8980dd1\">\n",
              "    <div class=\"colab-df-container\">\n",
              "      <div>\n",
              "<style scoped>\n",
              "    .dataframe tbody tr th:only-of-type {\n",
              "        vertical-align: middle;\n",
              "    }\n",
              "\n",
              "    .dataframe tbody tr th {\n",
              "        vertical-align: top;\n",
              "    }\n",
              "\n",
              "    .dataframe thead th {\n",
              "        text-align: right;\n",
              "    }\n",
              "</style>\n",
              "<table border=\"1\" class=\"dataframe\">\n",
              "  <thead>\n",
              "    <tr style=\"text-align: right;\">\n",
              "      <th></th>\n",
              "      <th>loan_amnt</th>\n",
              "      <th>funded_amnt</th>\n",
              "      <th>funded_amnt_inv</th>\n",
              "      <th>term</th>\n",
              "      <th>int_rate</th>\n",
              "      <th>grade</th>\n",
              "      <th>sub_grade</th>\n",
              "      <th>emp_length</th>\n",
              "      <th>home_ownership</th>\n",
              "      <th>annual_inc</th>\n",
              "      <th>...</th>\n",
              "      <th>total_rec_int</th>\n",
              "      <th>total_rec_late_fee</th>\n",
              "      <th>recoveries</th>\n",
              "      <th>collection_recovery_fee</th>\n",
              "      <th>last_pymnt_d</th>\n",
              "      <th>last_pymnt_amnt</th>\n",
              "      <th>last_credit_pull_d</th>\n",
              "      <th>collections_12_mths_ex_med</th>\n",
              "      <th>pub_rec_bankruptcies</th>\n",
              "      <th>loan_status</th>\n",
              "    </tr>\n",
              "  </thead>\n",
              "  <tbody>\n",
              "    <tr>\n",
              "      <th>0</th>\n",
              "      <td>6000</td>\n",
              "      <td>6000</td>\n",
              "      <td>6000.00000</td>\n",
              "      <td>36 months</td>\n",
              "      <td>10.59</td>\n",
              "      <td>B</td>\n",
              "      <td>B2</td>\n",
              "      <td>10</td>\n",
              "      <td>MORTGAGE</td>\n",
              "      <td>130000.0</td>\n",
              "      <td>...</td>\n",
              "      <td>751.93</td>\n",
              "      <td>0.0</td>\n",
              "      <td>0.0</td>\n",
              "      <td>0.0</td>\n",
              "      <td>Jan-13</td>\n",
              "      <td>3441.52</td>\n",
              "      <td>May-13</td>\n",
              "      <td>0</td>\n",
              "      <td>0</td>\n",
              "      <td>Fully Paid</td>\n",
              "    </tr>\n",
              "    <tr>\n",
              "      <th>1</th>\n",
              "      <td>14000</td>\n",
              "      <td>14000</td>\n",
              "      <td>13991.39746</td>\n",
              "      <td>36 months</td>\n",
              "      <td>19.82</td>\n",
              "      <td>G</td>\n",
              "      <td>G1</td>\n",
              "      <td>4</td>\n",
              "      <td>RENT</td>\n",
              "      <td>40000.0</td>\n",
              "      <td>...</td>\n",
              "      <td>4686.01</td>\n",
              "      <td>0.0</td>\n",
              "      <td>0.0</td>\n",
              "      <td>0.0</td>\n",
              "      <td>Jan-13</td>\n",
              "      <td>554.99</td>\n",
              "      <td>Dec-15</td>\n",
              "      <td>0</td>\n",
              "      <td>0</td>\n",
              "      <td>Fully Paid</td>\n",
              "    </tr>\n",
              "    <tr>\n",
              "      <th>2</th>\n",
              "      <td>15000</td>\n",
              "      <td>15000</td>\n",
              "      <td>14700.00000</td>\n",
              "      <td>36 months</td>\n",
              "      <td>11.14</td>\n",
              "      <td>B</td>\n",
              "      <td>B1</td>\n",
              "      <td>7</td>\n",
              "      <td>RENT</td>\n",
              "      <td>36700.0</td>\n",
              "      <td>...</td>\n",
              "      <td>1979.51</td>\n",
              "      <td>0.0</td>\n",
              "      <td>0.0</td>\n",
              "      <td>0.0</td>\n",
              "      <td>Mar-11</td>\n",
              "      <td>8616.51</td>\n",
              "      <td>May-16</td>\n",
              "      <td>0</td>\n",
              "      <td>0</td>\n",
              "      <td>Fully Paid</td>\n",
              "    </tr>\n",
              "    <tr>\n",
              "      <th>3</th>\n",
              "      <td>8000</td>\n",
              "      <td>8000</td>\n",
              "      <td>7775.00000</td>\n",
              "      <td>36 months</td>\n",
              "      <td>7.14</td>\n",
              "      <td>A</td>\n",
              "      <td>A3</td>\n",
              "      <td>10</td>\n",
              "      <td>RENT</td>\n",
              "      <td>126252.0</td>\n",
              "      <td>...</td>\n",
              "      <td>384.99</td>\n",
              "      <td>0.0</td>\n",
              "      <td>0.0</td>\n",
              "      <td>0.0</td>\n",
              "      <td>Apr-11</td>\n",
              "      <td>6409.52</td>\n",
              "      <td>Mar-16</td>\n",
              "      <td>0</td>\n",
              "      <td>0</td>\n",
              "      <td>Fully Paid</td>\n",
              "    </tr>\n",
              "    <tr>\n",
              "      <th>4</th>\n",
              "      <td>20500</td>\n",
              "      <td>12625</td>\n",
              "      <td>12625.00000</td>\n",
              "      <td>60 months</td>\n",
              "      <td>20.89</td>\n",
              "      <td>F</td>\n",
              "      <td>F1</td>\n",
              "      <td>9</td>\n",
              "      <td>MORTGAGE</td>\n",
              "      <td>54000.0</td>\n",
              "      <td>...</td>\n",
              "      <td>7502.09</td>\n",
              "      <td>0.0</td>\n",
              "      <td>0.0</td>\n",
              "      <td>0.0</td>\n",
              "      <td>Mar-16</td>\n",
              "      <td>88.58</td>\n",
              "      <td>Mar-16</td>\n",
              "      <td>0</td>\n",
              "      <td>0</td>\n",
              "      <td>Fully Paid</td>\n",
              "    </tr>\n",
              "  </tbody>\n",
              "</table>\n",
              "<p>5 rows × 39 columns</p>\n",
              "</div>\n",
              "      <button class=\"colab-df-convert\" onclick=\"convertToInteractive('df-3bcd42ca-4c18-49b9-9510-27a5f8980dd1')\"\n",
              "              title=\"Convert this dataframe to an interactive table.\"\n",
              "              style=\"display:none;\">\n",
              "        \n",
              "  <svg xmlns=\"http://www.w3.org/2000/svg\" height=\"24px\"viewBox=\"0 0 24 24\"\n",
              "       width=\"24px\">\n",
              "    <path d=\"M0 0h24v24H0V0z\" fill=\"none\"/>\n",
              "    <path d=\"M18.56 5.44l.94 2.06.94-2.06 2.06-.94-2.06-.94-.94-2.06-.94 2.06-2.06.94zm-11 1L8.5 8.5l.94-2.06 2.06-.94-2.06-.94L8.5 2.5l-.94 2.06-2.06.94zm10 10l.94 2.06.94-2.06 2.06-.94-2.06-.94-.94-2.06-.94 2.06-2.06.94z\"/><path d=\"M17.41 7.96l-1.37-1.37c-.4-.4-.92-.59-1.43-.59-.52 0-1.04.2-1.43.59L10.3 9.45l-7.72 7.72c-.78.78-.78 2.05 0 2.83L4 21.41c.39.39.9.59 1.41.59.51 0 1.02-.2 1.41-.59l7.78-7.78 2.81-2.81c.8-.78.8-2.07 0-2.86zM5.41 20L4 18.59l7.72-7.72 1.47 1.35L5.41 20z\"/>\n",
              "  </svg>\n",
              "      </button>\n",
              "      \n",
              "  <style>\n",
              "    .colab-df-container {\n",
              "      display:flex;\n",
              "      flex-wrap:wrap;\n",
              "      gap: 12px;\n",
              "    }\n",
              "\n",
              "    .colab-df-convert {\n",
              "      background-color: #E8F0FE;\n",
              "      border: none;\n",
              "      border-radius: 50%;\n",
              "      cursor: pointer;\n",
              "      display: none;\n",
              "      fill: #1967D2;\n",
              "      height: 32px;\n",
              "      padding: 0 0 0 0;\n",
              "      width: 32px;\n",
              "    }\n",
              "\n",
              "    .colab-df-convert:hover {\n",
              "      background-color: #E2EBFA;\n",
              "      box-shadow: 0px 1px 2px rgba(60, 64, 67, 0.3), 0px 1px 3px 1px rgba(60, 64, 67, 0.15);\n",
              "      fill: #174EA6;\n",
              "    }\n",
              "\n",
              "    [theme=dark] .colab-df-convert {\n",
              "      background-color: #3B4455;\n",
              "      fill: #D2E3FC;\n",
              "    }\n",
              "\n",
              "    [theme=dark] .colab-df-convert:hover {\n",
              "      background-color: #434B5C;\n",
              "      box-shadow: 0px 1px 3px 1px rgba(0, 0, 0, 0.15);\n",
              "      filter: drop-shadow(0px 1px 2px rgba(0, 0, 0, 0.3));\n",
              "      fill: #FFFFFF;\n",
              "    }\n",
              "  </style>\n",
              "\n",
              "      <script>\n",
              "        const buttonEl =\n",
              "          document.querySelector('#df-3bcd42ca-4c18-49b9-9510-27a5f8980dd1 button.colab-df-convert');\n",
              "        buttonEl.style.display =\n",
              "          google.colab.kernel.accessAllowed ? 'block' : 'none';\n",
              "\n",
              "        async function convertToInteractive(key) {\n",
              "          const element = document.querySelector('#df-3bcd42ca-4c18-49b9-9510-27a5f8980dd1');\n",
              "          const dataTable =\n",
              "            await google.colab.kernel.invokeFunction('convertToInteractive',\n",
              "                                                     [key], {});\n",
              "          if (!dataTable) return;\n",
              "\n",
              "          const docLinkHtml = 'Like what you see? Visit the ' +\n",
              "            '<a target=\"_blank\" href=https://colab.research.google.com/notebooks/data_table.ipynb>data table notebook</a>'\n",
              "            + ' to learn more about interactive tables.';\n",
              "          element.innerHTML = '';\n",
              "          dataTable['output_type'] = 'display_data';\n",
              "          await google.colab.output.renderOutput(dataTable, element);\n",
              "          const docLink = document.createElement('div');\n",
              "          docLink.innerHTML = docLinkHtml;\n",
              "          element.appendChild(docLink);\n",
              "        }\n",
              "      </script>\n",
              "    </div>\n",
              "  </div>\n",
              "  "
            ]
          },
          "metadata": {},
          "execution_count": 3
        }
      ]
    },
    {
      "cell_type": "code",
      "source": [
        "loan_df.shape"
      ],
      "metadata": {
        "colab": {
          "base_uri": "https://localhost:8080/"
        },
        "id": "3hncsyg9-WWz",
        "outputId": "61335d27-1a29-4865-feb6-38190f27f65e"
      },
      "execution_count": 4,
      "outputs": [
        {
          "output_type": "execute_result",
          "data": {
            "text/plain": [
              "(16780, 39)"
            ]
          },
          "metadata": {},
          "execution_count": 4
        }
      ]
    },
    {
      "cell_type": "code",
      "source": [
        "loan_df.info()"
      ],
      "metadata": {
        "colab": {
          "base_uri": "https://localhost:8080/"
        },
        "id": "910m-iVS-ucG",
        "outputId": "e0a427d1-20d6-439a-cf4d-13fadccdda80"
      },
      "execution_count": 5,
      "outputs": [
        {
          "output_type": "stream",
          "name": "stdout",
          "text": [
            "<class 'pandas.core.frame.DataFrame'>\n",
            "RangeIndex: 16780 entries, 0 to 16779\n",
            "Data columns (total 39 columns):\n",
            " #   Column                      Non-Null Count  Dtype  \n",
            "---  ------                      --------------  -----  \n",
            " 0   loan_amnt                   16780 non-null  int64  \n",
            " 1   funded_amnt                 16780 non-null  int64  \n",
            " 2   funded_amnt_inv             16780 non-null  float64\n",
            " 3   term                        16780 non-null  object \n",
            " 4   int_rate                    16780 non-null  float64\n",
            " 5   grade                       16780 non-null  object \n",
            " 6   sub_grade                   16780 non-null  object \n",
            " 7   emp_length                  16780 non-null  int64  \n",
            " 8   home_ownership              16780 non-null  object \n",
            " 9   annual_inc                  16780 non-null  float64\n",
            " 10  verification_status         16780 non-null  object \n",
            " 11  issue_d                     16780 non-null  object \n",
            " 12  purpose                     16780 non-null  object \n",
            " 13  title                       16780 non-null  object \n",
            " 14  addr_state                  16780 non-null  object \n",
            " 15  dti                         16780 non-null  float64\n",
            " 16  delinq_2yrs                 16780 non-null  int64  \n",
            " 17  earliest_cr_line            16780 non-null  object \n",
            " 18  inq_last_6mths              16780 non-null  int64  \n",
            " 19  open_acc                    16780 non-null  int64  \n",
            " 20  pub_rec                     16780 non-null  int64  \n",
            " 21  revol_bal                   16780 non-null  int64  \n",
            " 22  revol_util                  16780 non-null  float64\n",
            " 23  total_acc                   16780 non-null  int64  \n",
            " 24  out_prncp                   16780 non-null  int64  \n",
            " 25  out_prncp_inv               16780 non-null  int64  \n",
            " 26  total_pymnt                 16780 non-null  float64\n",
            " 27  total_pymnt_inv             16780 non-null  float64\n",
            " 28  total_rec_prncp             16780 non-null  float64\n",
            " 29  total_rec_int               16780 non-null  float64\n",
            " 30  total_rec_late_fee          16780 non-null  float64\n",
            " 31  recoveries                  16780 non-null  float64\n",
            " 32  collection_recovery_fee     16780 non-null  float64\n",
            " 33  last_pymnt_d                16780 non-null  object \n",
            " 34  last_pymnt_amnt             16780 non-null  float64\n",
            " 35  last_credit_pull_d          16780 non-null  object \n",
            " 36  collections_12_mths_ex_med  16780 non-null  int64  \n",
            " 37  pub_rec_bankruptcies        16780 non-null  int64  \n",
            " 38  loan_status                 16780 non-null  object \n",
            "dtypes: float64(13), int64(13), object(13)\n",
            "memory usage: 5.0+ MB\n"
          ]
        }
      ]
    },
    {
      "cell_type": "code",
      "source": [
        "loan_df.describe().transpose()"
      ],
      "metadata": {
        "colab": {
          "base_uri": "https://localhost:8080/",
          "height": 865
        },
        "id": "LkbQQW_rDOjk",
        "outputId": "886533a4-41aa-481c-efdc-c180a54e07e9"
      },
      "execution_count": 6,
      "outputs": [
        {
          "output_type": "execute_result",
          "data": {
            "text/plain": [
              "                              count          mean           std      min  \\\n",
              "loan_amnt                   16780.0  11097.749106   7273.057226  1000.00   \n",
              "funded_amnt                 16780.0  10838.647735   7016.709581  1000.00   \n",
              "funded_amnt_inv             16780.0  10362.358440   6925.787448     0.00   \n",
              "int_rate                    16780.0     12.521789      3.647799     5.42   \n",
              "emp_length                  16780.0      5.036234      3.286796     1.00   \n",
              "annual_inc                  16780.0  60282.821036  27316.525010  4000.00   \n",
              "dti                         16780.0     13.795358      6.387046     0.00   \n",
              "delinq_2yrs                 16780.0      0.130989      0.458160     0.00   \n",
              "inq_last_6mths              16780.0      0.838915      1.023113     0.00   \n",
              "open_acc                    16780.0      9.090465      4.212095     2.00   \n",
              "pub_rec                     16780.0      0.050298      0.223953     0.00   \n",
              "revol_bal                   16780.0  12434.678784  13413.730621     0.00   \n",
              "revol_util                  16780.0     51.339780     27.587225     0.00   \n",
              "total_acc                   16780.0     21.547735     10.983619     2.00   \n",
              "out_prncp                   16780.0      0.000000      0.000000     0.00   \n",
              "out_prncp_inv               16780.0      0.000000      0.000000     0.00   \n",
              "total_pymnt                 16780.0  10154.756026   8241.884452    35.71   \n",
              "total_pymnt_inv             16780.0   9736.377447   8087.186243     0.00   \n",
              "total_rec_prncp             16780.0   7794.133835   6552.405215     0.00   \n",
              "total_rec_int               16780.0   2113.559896   2346.506007     6.27   \n",
              "total_rec_late_fee          16780.0      2.318582      8.723110     0.00   \n",
              "recoveries                  16780.0    244.743759    987.364486     0.00   \n",
              "collection_recovery_fee     16780.0     29.018183    196.059562     0.00   \n",
              "last_pymnt_amnt             16780.0   1993.289683   3859.821867     0.01   \n",
              "collections_12_mths_ex_med  16780.0      0.000000      0.000000     0.00   \n",
              "pub_rec_bankruptcies        16780.0      0.038141      0.191852     0.00   \n",
              "\n",
              "                                     25%           50%           75%  \\\n",
              "loan_amnt                    5400.000000   9800.000000  15000.000000   \n",
              "funded_amnt                  5325.000000   9600.000000  15000.000000   \n",
              "funded_amnt_inv              5000.000000   8950.000000  14374.713900   \n",
              "int_rate                       10.000000     12.530000     15.050000   \n",
              "emp_length                      2.000000      4.000000      8.000000   \n",
              "annual_inc                  40000.000000  55000.000000  76000.000000   \n",
              "dti                             9.030000     14.010000     18.820000   \n",
              "delinq_2yrs                     0.000000      0.000000      0.000000   \n",
              "inq_last_6mths                  0.000000      1.000000      1.000000   \n",
              "open_acc                        6.000000      8.000000     11.000000   \n",
              "pub_rec                         0.000000      0.000000      0.000000   \n",
              "revol_bal                    3808.000000   8754.500000  16438.000000   \n",
              "revol_util                     29.400000     53.198094     73.820552   \n",
              "total_acc                      13.000000     20.000000     28.000000   \n",
              "out_prncp                       0.000000      0.000000      0.000000   \n",
              "out_prncp_inv                   0.000000      0.000000      0.000000   \n",
              "total_pymnt                  4080.765000   7848.810004  13932.488870   \n",
              "total_pymnt_inv              3773.222500   7478.005000  13401.042500   \n",
              "total_rec_prncp              2820.146701   6000.000000  11000.000000   \n",
              "total_rec_int                 638.321103   1302.715000   2656.105000   \n",
              "total_rec_late_fee              0.000000      0.000000      0.000000   \n",
              "recoveries                      0.000000      0.000000    100.194441   \n",
              "collection_recovery_fee         0.000000      0.000000      1.469486   \n",
              "last_pymnt_amnt               177.925000    369.080000   1685.357500   \n",
              "collections_12_mths_ex_med      0.000000      0.000000      0.000000   \n",
              "pub_rec_bankruptcies            0.000000      0.000000      0.000000   \n",
              "\n",
              "                                      max  \n",
              "loan_amnt                    35000.000000  \n",
              "funded_amnt                  35000.000000  \n",
              "funded_amnt_inv              35000.000000  \n",
              "int_rate                        24.400000  \n",
              "emp_length                      10.000000  \n",
              "annual_inc                  141996.000000  \n",
              "dti                             29.930000  \n",
              "delinq_2yrs                      9.000000  \n",
              "inq_last_6mths                   8.000000  \n",
              "open_acc                        39.000000  \n",
              "pub_rec                          2.000000  \n",
              "revol_bal                   149000.000000  \n",
              "revol_util                      99.900000  \n",
              "total_acc                       90.000000  \n",
              "out_prncp                        0.000000  \n",
              "out_prncp_inv                    0.000000  \n",
              "total_pymnt                  58563.679930  \n",
              "total_pymnt_inv              58563.680000  \n",
              "total_rec_prncp              35000.000000  \n",
              "total_rec_int                23563.680000  \n",
              "total_rec_late_fee             166.429711  \n",
              "recoveries                   29623.350000  \n",
              "collection_recovery_fee       6543.040000  \n",
              "last_pymnt_amnt              35471.860000  \n",
              "collections_12_mths_ex_med       0.000000  \n",
              "pub_rec_bankruptcies             2.000000  "
            ],
            "text/html": [
              "\n",
              "  <div id=\"df-fad1fb50-2f98-4c57-a73e-fc85160f3de9\">\n",
              "    <div class=\"colab-df-container\">\n",
              "      <div>\n",
              "<style scoped>\n",
              "    .dataframe tbody tr th:only-of-type {\n",
              "        vertical-align: middle;\n",
              "    }\n",
              "\n",
              "    .dataframe tbody tr th {\n",
              "        vertical-align: top;\n",
              "    }\n",
              "\n",
              "    .dataframe thead th {\n",
              "        text-align: right;\n",
              "    }\n",
              "</style>\n",
              "<table border=\"1\" class=\"dataframe\">\n",
              "  <thead>\n",
              "    <tr style=\"text-align: right;\">\n",
              "      <th></th>\n",
              "      <th>count</th>\n",
              "      <th>mean</th>\n",
              "      <th>std</th>\n",
              "      <th>min</th>\n",
              "      <th>25%</th>\n",
              "      <th>50%</th>\n",
              "      <th>75%</th>\n",
              "      <th>max</th>\n",
              "    </tr>\n",
              "  </thead>\n",
              "  <tbody>\n",
              "    <tr>\n",
              "      <th>loan_amnt</th>\n",
              "      <td>16780.0</td>\n",
              "      <td>11097.749106</td>\n",
              "      <td>7273.057226</td>\n",
              "      <td>1000.00</td>\n",
              "      <td>5400.000000</td>\n",
              "      <td>9800.000000</td>\n",
              "      <td>15000.000000</td>\n",
              "      <td>35000.000000</td>\n",
              "    </tr>\n",
              "    <tr>\n",
              "      <th>funded_amnt</th>\n",
              "      <td>16780.0</td>\n",
              "      <td>10838.647735</td>\n",
              "      <td>7016.709581</td>\n",
              "      <td>1000.00</td>\n",
              "      <td>5325.000000</td>\n",
              "      <td>9600.000000</td>\n",
              "      <td>15000.000000</td>\n",
              "      <td>35000.000000</td>\n",
              "    </tr>\n",
              "    <tr>\n",
              "      <th>funded_amnt_inv</th>\n",
              "      <td>16780.0</td>\n",
              "      <td>10362.358440</td>\n",
              "      <td>6925.787448</td>\n",
              "      <td>0.00</td>\n",
              "      <td>5000.000000</td>\n",
              "      <td>8950.000000</td>\n",
              "      <td>14374.713900</td>\n",
              "      <td>35000.000000</td>\n",
              "    </tr>\n",
              "    <tr>\n",
              "      <th>int_rate</th>\n",
              "      <td>16780.0</td>\n",
              "      <td>12.521789</td>\n",
              "      <td>3.647799</td>\n",
              "      <td>5.42</td>\n",
              "      <td>10.000000</td>\n",
              "      <td>12.530000</td>\n",
              "      <td>15.050000</td>\n",
              "      <td>24.400000</td>\n",
              "    </tr>\n",
              "    <tr>\n",
              "      <th>emp_length</th>\n",
              "      <td>16780.0</td>\n",
              "      <td>5.036234</td>\n",
              "      <td>3.286796</td>\n",
              "      <td>1.00</td>\n",
              "      <td>2.000000</td>\n",
              "      <td>4.000000</td>\n",
              "      <td>8.000000</td>\n",
              "      <td>10.000000</td>\n",
              "    </tr>\n",
              "    <tr>\n",
              "      <th>annual_inc</th>\n",
              "      <td>16780.0</td>\n",
              "      <td>60282.821036</td>\n",
              "      <td>27316.525010</td>\n",
              "      <td>4000.00</td>\n",
              "      <td>40000.000000</td>\n",
              "      <td>55000.000000</td>\n",
              "      <td>76000.000000</td>\n",
              "      <td>141996.000000</td>\n",
              "    </tr>\n",
              "    <tr>\n",
              "      <th>dti</th>\n",
              "      <td>16780.0</td>\n",
              "      <td>13.795358</td>\n",
              "      <td>6.387046</td>\n",
              "      <td>0.00</td>\n",
              "      <td>9.030000</td>\n",
              "      <td>14.010000</td>\n",
              "      <td>18.820000</td>\n",
              "      <td>29.930000</td>\n",
              "    </tr>\n",
              "    <tr>\n",
              "      <th>delinq_2yrs</th>\n",
              "      <td>16780.0</td>\n",
              "      <td>0.130989</td>\n",
              "      <td>0.458160</td>\n",
              "      <td>0.00</td>\n",
              "      <td>0.000000</td>\n",
              "      <td>0.000000</td>\n",
              "      <td>0.000000</td>\n",
              "      <td>9.000000</td>\n",
              "    </tr>\n",
              "    <tr>\n",
              "      <th>inq_last_6mths</th>\n",
              "      <td>16780.0</td>\n",
              "      <td>0.838915</td>\n",
              "      <td>1.023113</td>\n",
              "      <td>0.00</td>\n",
              "      <td>0.000000</td>\n",
              "      <td>1.000000</td>\n",
              "      <td>1.000000</td>\n",
              "      <td>8.000000</td>\n",
              "    </tr>\n",
              "    <tr>\n",
              "      <th>open_acc</th>\n",
              "      <td>16780.0</td>\n",
              "      <td>9.090465</td>\n",
              "      <td>4.212095</td>\n",
              "      <td>2.00</td>\n",
              "      <td>6.000000</td>\n",
              "      <td>8.000000</td>\n",
              "      <td>11.000000</td>\n",
              "      <td>39.000000</td>\n",
              "    </tr>\n",
              "    <tr>\n",
              "      <th>pub_rec</th>\n",
              "      <td>16780.0</td>\n",
              "      <td>0.050298</td>\n",
              "      <td>0.223953</td>\n",
              "      <td>0.00</td>\n",
              "      <td>0.000000</td>\n",
              "      <td>0.000000</td>\n",
              "      <td>0.000000</td>\n",
              "      <td>2.000000</td>\n",
              "    </tr>\n",
              "    <tr>\n",
              "      <th>revol_bal</th>\n",
              "      <td>16780.0</td>\n",
              "      <td>12434.678784</td>\n",
              "      <td>13413.730621</td>\n",
              "      <td>0.00</td>\n",
              "      <td>3808.000000</td>\n",
              "      <td>8754.500000</td>\n",
              "      <td>16438.000000</td>\n",
              "      <td>149000.000000</td>\n",
              "    </tr>\n",
              "    <tr>\n",
              "      <th>revol_util</th>\n",
              "      <td>16780.0</td>\n",
              "      <td>51.339780</td>\n",
              "      <td>27.587225</td>\n",
              "      <td>0.00</td>\n",
              "      <td>29.400000</td>\n",
              "      <td>53.198094</td>\n",
              "      <td>73.820552</td>\n",
              "      <td>99.900000</td>\n",
              "    </tr>\n",
              "    <tr>\n",
              "      <th>total_acc</th>\n",
              "      <td>16780.0</td>\n",
              "      <td>21.547735</td>\n",
              "      <td>10.983619</td>\n",
              "      <td>2.00</td>\n",
              "      <td>13.000000</td>\n",
              "      <td>20.000000</td>\n",
              "      <td>28.000000</td>\n",
              "      <td>90.000000</td>\n",
              "    </tr>\n",
              "    <tr>\n",
              "      <th>out_prncp</th>\n",
              "      <td>16780.0</td>\n",
              "      <td>0.000000</td>\n",
              "      <td>0.000000</td>\n",
              "      <td>0.00</td>\n",
              "      <td>0.000000</td>\n",
              "      <td>0.000000</td>\n",
              "      <td>0.000000</td>\n",
              "      <td>0.000000</td>\n",
              "    </tr>\n",
              "    <tr>\n",
              "      <th>out_prncp_inv</th>\n",
              "      <td>16780.0</td>\n",
              "      <td>0.000000</td>\n",
              "      <td>0.000000</td>\n",
              "      <td>0.00</td>\n",
              "      <td>0.000000</td>\n",
              "      <td>0.000000</td>\n",
              "      <td>0.000000</td>\n",
              "      <td>0.000000</td>\n",
              "    </tr>\n",
              "    <tr>\n",
              "      <th>total_pymnt</th>\n",
              "      <td>16780.0</td>\n",
              "      <td>10154.756026</td>\n",
              "      <td>8241.884452</td>\n",
              "      <td>35.71</td>\n",
              "      <td>4080.765000</td>\n",
              "      <td>7848.810004</td>\n",
              "      <td>13932.488870</td>\n",
              "      <td>58563.679930</td>\n",
              "    </tr>\n",
              "    <tr>\n",
              "      <th>total_pymnt_inv</th>\n",
              "      <td>16780.0</td>\n",
              "      <td>9736.377447</td>\n",
              "      <td>8087.186243</td>\n",
              "      <td>0.00</td>\n",
              "      <td>3773.222500</td>\n",
              "      <td>7478.005000</td>\n",
              "      <td>13401.042500</td>\n",
              "      <td>58563.680000</td>\n",
              "    </tr>\n",
              "    <tr>\n",
              "      <th>total_rec_prncp</th>\n",
              "      <td>16780.0</td>\n",
              "      <td>7794.133835</td>\n",
              "      <td>6552.405215</td>\n",
              "      <td>0.00</td>\n",
              "      <td>2820.146701</td>\n",
              "      <td>6000.000000</td>\n",
              "      <td>11000.000000</td>\n",
              "      <td>35000.000000</td>\n",
              "    </tr>\n",
              "    <tr>\n",
              "      <th>total_rec_int</th>\n",
              "      <td>16780.0</td>\n",
              "      <td>2113.559896</td>\n",
              "      <td>2346.506007</td>\n",
              "      <td>6.27</td>\n",
              "      <td>638.321103</td>\n",
              "      <td>1302.715000</td>\n",
              "      <td>2656.105000</td>\n",
              "      <td>23563.680000</td>\n",
              "    </tr>\n",
              "    <tr>\n",
              "      <th>total_rec_late_fee</th>\n",
              "      <td>16780.0</td>\n",
              "      <td>2.318582</td>\n",
              "      <td>8.723110</td>\n",
              "      <td>0.00</td>\n",
              "      <td>0.000000</td>\n",
              "      <td>0.000000</td>\n",
              "      <td>0.000000</td>\n",
              "      <td>166.429711</td>\n",
              "    </tr>\n",
              "    <tr>\n",
              "      <th>recoveries</th>\n",
              "      <td>16780.0</td>\n",
              "      <td>244.743759</td>\n",
              "      <td>987.364486</td>\n",
              "      <td>0.00</td>\n",
              "      <td>0.000000</td>\n",
              "      <td>0.000000</td>\n",
              "      <td>100.194441</td>\n",
              "      <td>29623.350000</td>\n",
              "    </tr>\n",
              "    <tr>\n",
              "      <th>collection_recovery_fee</th>\n",
              "      <td>16780.0</td>\n",
              "      <td>29.018183</td>\n",
              "      <td>196.059562</td>\n",
              "      <td>0.00</td>\n",
              "      <td>0.000000</td>\n",
              "      <td>0.000000</td>\n",
              "      <td>1.469486</td>\n",
              "      <td>6543.040000</td>\n",
              "    </tr>\n",
              "    <tr>\n",
              "      <th>last_pymnt_amnt</th>\n",
              "      <td>16780.0</td>\n",
              "      <td>1993.289683</td>\n",
              "      <td>3859.821867</td>\n",
              "      <td>0.01</td>\n",
              "      <td>177.925000</td>\n",
              "      <td>369.080000</td>\n",
              "      <td>1685.357500</td>\n",
              "      <td>35471.860000</td>\n",
              "    </tr>\n",
              "    <tr>\n",
              "      <th>collections_12_mths_ex_med</th>\n",
              "      <td>16780.0</td>\n",
              "      <td>0.000000</td>\n",
              "      <td>0.000000</td>\n",
              "      <td>0.00</td>\n",
              "      <td>0.000000</td>\n",
              "      <td>0.000000</td>\n",
              "      <td>0.000000</td>\n",
              "      <td>0.000000</td>\n",
              "    </tr>\n",
              "    <tr>\n",
              "      <th>pub_rec_bankruptcies</th>\n",
              "      <td>16780.0</td>\n",
              "      <td>0.038141</td>\n",
              "      <td>0.191852</td>\n",
              "      <td>0.00</td>\n",
              "      <td>0.000000</td>\n",
              "      <td>0.000000</td>\n",
              "      <td>0.000000</td>\n",
              "      <td>2.000000</td>\n",
              "    </tr>\n",
              "  </tbody>\n",
              "</table>\n",
              "</div>\n",
              "      <button class=\"colab-df-convert\" onclick=\"convertToInteractive('df-fad1fb50-2f98-4c57-a73e-fc85160f3de9')\"\n",
              "              title=\"Convert this dataframe to an interactive table.\"\n",
              "              style=\"display:none;\">\n",
              "        \n",
              "  <svg xmlns=\"http://www.w3.org/2000/svg\" height=\"24px\"viewBox=\"0 0 24 24\"\n",
              "       width=\"24px\">\n",
              "    <path d=\"M0 0h24v24H0V0z\" fill=\"none\"/>\n",
              "    <path d=\"M18.56 5.44l.94 2.06.94-2.06 2.06-.94-2.06-.94-.94-2.06-.94 2.06-2.06.94zm-11 1L8.5 8.5l.94-2.06 2.06-.94-2.06-.94L8.5 2.5l-.94 2.06-2.06.94zm10 10l.94 2.06.94-2.06 2.06-.94-2.06-.94-.94-2.06-.94 2.06-2.06.94z\"/><path d=\"M17.41 7.96l-1.37-1.37c-.4-.4-.92-.59-1.43-.59-.52 0-1.04.2-1.43.59L10.3 9.45l-7.72 7.72c-.78.78-.78 2.05 0 2.83L4 21.41c.39.39.9.59 1.41.59.51 0 1.02-.2 1.41-.59l7.78-7.78 2.81-2.81c.8-.78.8-2.07 0-2.86zM5.41 20L4 18.59l7.72-7.72 1.47 1.35L5.41 20z\"/>\n",
              "  </svg>\n",
              "      </button>\n",
              "      \n",
              "  <style>\n",
              "    .colab-df-container {\n",
              "      display:flex;\n",
              "      flex-wrap:wrap;\n",
              "      gap: 12px;\n",
              "    }\n",
              "\n",
              "    .colab-df-convert {\n",
              "      background-color: #E8F0FE;\n",
              "      border: none;\n",
              "      border-radius: 50%;\n",
              "      cursor: pointer;\n",
              "      display: none;\n",
              "      fill: #1967D2;\n",
              "      height: 32px;\n",
              "      padding: 0 0 0 0;\n",
              "      width: 32px;\n",
              "    }\n",
              "\n",
              "    .colab-df-convert:hover {\n",
              "      background-color: #E2EBFA;\n",
              "      box-shadow: 0px 1px 2px rgba(60, 64, 67, 0.3), 0px 1px 3px 1px rgba(60, 64, 67, 0.15);\n",
              "      fill: #174EA6;\n",
              "    }\n",
              "\n",
              "    [theme=dark] .colab-df-convert {\n",
              "      background-color: #3B4455;\n",
              "      fill: #D2E3FC;\n",
              "    }\n",
              "\n",
              "    [theme=dark] .colab-df-convert:hover {\n",
              "      background-color: #434B5C;\n",
              "      box-shadow: 0px 1px 3px 1px rgba(0, 0, 0, 0.15);\n",
              "      filter: drop-shadow(0px 1px 2px rgba(0, 0, 0, 0.3));\n",
              "      fill: #FFFFFF;\n",
              "    }\n",
              "  </style>\n",
              "\n",
              "      <script>\n",
              "        const buttonEl =\n",
              "          document.querySelector('#df-fad1fb50-2f98-4c57-a73e-fc85160f3de9 button.colab-df-convert');\n",
              "        buttonEl.style.display =\n",
              "          google.colab.kernel.accessAllowed ? 'block' : 'none';\n",
              "\n",
              "        async function convertToInteractive(key) {\n",
              "          const element = document.querySelector('#df-fad1fb50-2f98-4c57-a73e-fc85160f3de9');\n",
              "          const dataTable =\n",
              "            await google.colab.kernel.invokeFunction('convertToInteractive',\n",
              "                                                     [key], {});\n",
              "          if (!dataTable) return;\n",
              "\n",
              "          const docLinkHtml = 'Like what you see? Visit the ' +\n",
              "            '<a target=\"_blank\" href=https://colab.research.google.com/notebooks/data_table.ipynb>data table notebook</a>'\n",
              "            + ' to learn more about interactive tables.';\n",
              "          element.innerHTML = '';\n",
              "          dataTable['output_type'] = 'display_data';\n",
              "          await google.colab.output.renderOutput(dataTable, element);\n",
              "          const docLink = document.createElement('div');\n",
              "          docLink.innerHTML = docLinkHtml;\n",
              "          element.appendChild(docLink);\n",
              "        }\n",
              "      </script>\n",
              "    </div>\n",
              "  </div>\n",
              "  "
            ]
          },
          "metadata": {},
          "execution_count": 6
        }
      ]
    },
    {
      "cell_type": "code",
      "source": [
        "loan_df.isnull().sum()"
      ],
      "metadata": {
        "colab": {
          "base_uri": "https://localhost:8080/"
        },
        "id": "LJUZZkvQFcMB",
        "outputId": "ecbc1c4b-fa05-4a86-a853-b511d875afd7"
      },
      "execution_count": 7,
      "outputs": [
        {
          "output_type": "execute_result",
          "data": {
            "text/plain": [
              "loan_amnt                     0\n",
              "funded_amnt                   0\n",
              "funded_amnt_inv               0\n",
              "term                          0\n",
              "int_rate                      0\n",
              "grade                         0\n",
              "sub_grade                     0\n",
              "emp_length                    0\n",
              "home_ownership                0\n",
              "annual_inc                    0\n",
              "verification_status           0\n",
              "issue_d                       0\n",
              "purpose                       0\n",
              "title                         0\n",
              "addr_state                    0\n",
              "dti                           0\n",
              "delinq_2yrs                   0\n",
              "earliest_cr_line              0\n",
              "inq_last_6mths                0\n",
              "open_acc                      0\n",
              "pub_rec                       0\n",
              "revol_bal                     0\n",
              "revol_util                    0\n",
              "total_acc                     0\n",
              "out_prncp                     0\n",
              "out_prncp_inv                 0\n",
              "total_pymnt                   0\n",
              "total_pymnt_inv               0\n",
              "total_rec_prncp               0\n",
              "total_rec_int                 0\n",
              "total_rec_late_fee            0\n",
              "recoveries                    0\n",
              "collection_recovery_fee       0\n",
              "last_pymnt_d                  0\n",
              "last_pymnt_amnt               0\n",
              "last_credit_pull_d            0\n",
              "collections_12_mths_ex_med    0\n",
              "pub_rec_bankruptcies          0\n",
              "loan_status                   0\n",
              "dtype: int64"
            ]
          },
          "metadata": {},
          "execution_count": 7
        }
      ]
    },
    {
      "cell_type": "code",
      "source": [
        "loan_df.select_dtypes(['object']).columns"
      ],
      "metadata": {
        "colab": {
          "base_uri": "https://localhost:8080/"
        },
        "id": "h6A9UkG-C5Ug",
        "outputId": "5c55f894-8146-4b74-82d0-cdd46fefcfbd"
      },
      "execution_count": 8,
      "outputs": [
        {
          "output_type": "execute_result",
          "data": {
            "text/plain": [
              "Index(['term', 'grade', 'sub_grade', 'home_ownership', 'verification_status',\n",
              "       'issue_d', 'purpose', 'title', 'addr_state', 'earliest_cr_line',\n",
              "       'last_pymnt_d', 'last_credit_pull_d', 'loan_status'],\n",
              "      dtype='object')"
            ]
          },
          "metadata": {},
          "execution_count": 8
        }
      ]
    },
    {
      "cell_type": "code",
      "source": [
        "print(loan_df['term'].value_counts())\n",
        "print('\\n')\n",
        "print('\\n')\n",
        "\n",
        "loan_df['term'] = loan_df['term'].apply(lambda term: int(term[:3]))\n",
        "\n",
        "print(loan_df['term'].value_counts())"
      ],
      "metadata": {
        "colab": {
          "base_uri": "https://localhost:8080/"
        },
        "id": "4d_wQisGqcpL",
        "outputId": "716c40c7-dc11-4e5f-d2ad-1b0994e63a30"
      },
      "execution_count": 9,
      "outputs": [
        {
          "output_type": "stream",
          "name": "stdout",
          "text": [
            " 36 months    11769\n",
            " 60 months     5011\n",
            "Name: term, dtype: int64\n",
            "\n",
            "\n",
            "\n",
            "\n",
            "36    11769\n",
            "60     5011\n",
            "Name: term, dtype: int64\n"
          ]
        }
      ]
    },
    {
      "cell_type": "code",
      "source": [
        "loan_df = loan_df.drop('grade', axis=1)\n"
      ],
      "metadata": {
        "id": "ysUYwiD9uZcQ"
      },
      "execution_count": 10,
      "outputs": []
    },
    {
      "cell_type": "code",
      "source": [
        "subgrade_dummies = pd.get_dummies(loan_df['sub_grade'],drop_first=True)\n",
        "loan_df = pd.concat([loan_df.drop('sub_grade',axis=1),subgrade_dummies],axis=1)\n"
      ],
      "metadata": {
        "id": "a2yJv3jKucUy"
      },
      "execution_count": 11,
      "outputs": []
    },
    {
      "cell_type": "code",
      "source": [
        "loan_df.shape"
      ],
      "metadata": {
        "colab": {
          "base_uri": "https://localhost:8080/"
        },
        "id": "2F8gwuPQuqMr",
        "outputId": "3ad0afaf-8c92-45ff-ec65-21e21edc7e2a"
      },
      "execution_count": 12,
      "outputs": [
        {
          "output_type": "execute_result",
          "data": {
            "text/plain": [
              "(16780, 71)"
            ]
          },
          "metadata": {},
          "execution_count": 12
        }
      ]
    },
    {
      "cell_type": "code",
      "source": [
        "loan_df['home_ownership'] = loan_df['home_ownership'].replace(['NONE', 'ANY'], 'OTHER')\n",
        "dummies = pd.get_dummies(loan_df['home_ownership'],drop_first=True)\n",
        "loan_df = loan_df.drop('home_ownership',axis=1)\n",
        "loan_df = pd.concat([loan_df,dummies],axis=1)"
      ],
      "metadata": {
        "id": "gB8Mcdbss6wj"
      },
      "execution_count": 13,
      "outputs": []
    },
    {
      "cell_type": "code",
      "source": [
        "loan_df.select_dtypes(['object']).columns"
      ],
      "metadata": {
        "colab": {
          "base_uri": "https://localhost:8080/"
        },
        "id": "N5FmVAkfv0yf",
        "outputId": "1293c899-f9c0-433a-c21b-679625b9dd41"
      },
      "execution_count": 14,
      "outputs": [
        {
          "output_type": "execute_result",
          "data": {
            "text/plain": [
              "Index(['verification_status', 'issue_d', 'purpose', 'title', 'addr_state',\n",
              "       'earliest_cr_line', 'last_pymnt_d', 'last_credit_pull_d',\n",
              "       'loan_status'],\n",
              "      dtype='object')"
            ]
          },
          "metadata": {},
          "execution_count": 14
        }
      ]
    },
    {
      "cell_type": "code",
      "source": [
        "dummies = pd.get_dummies(loan_df[['verification_status', 'issue_d', 'purpose', 'title', 'addr_state',\n",
        "       'earliest_cr_line', 'last_pymnt_d', 'last_credit_pull_d' ]],drop_first=True)\n",
        "loan_df = loan_df.drop(['verification_status', 'issue_d', 'purpose', 'title', 'addr_state',\n",
        "       'earliest_cr_line', 'last_pymnt_d', 'last_credit_pull_d'],axis=1)\n",
        "loan_df = pd.concat([loan_df,dummies],axis=1)\n",
        "loan_df.shape"
      ],
      "metadata": {
        "colab": {
          "base_uri": "https://localhost:8080/"
        },
        "id": "NYr3ZhPTFsoE",
        "outputId": "e2426fd0-71c1-444a-eaa8-073cc09fb71d"
      },
      "execution_count": 15,
      "outputs": [
        {
          "output_type": "execute_result",
          "data": {
            "text/plain": [
              "(16780, 8174)"
            ]
          },
          "metadata": {},
          "execution_count": 15
        }
      ]
    },
    {
      "cell_type": "code",
      "source": [
        "loan_fully_paid = sum(loan_df[\"loan_status\"] == \"Fully Paid\")/len(loan_df)\n",
        "loan_charged_off = sum(loan_df[\"loan_status\"] == \"Charged Off\")/len(loan_df)"
      ],
      "metadata": {
        "id": "0EIrj6ccKwfd"
      },
      "execution_count": 16,
      "outputs": []
    },
    {
      "cell_type": "code",
      "source": [
        "loan_fully_paid"
      ],
      "metadata": {
        "colab": {
          "base_uri": "https://localhost:8080/"
        },
        "id": "NeJATNKmK4an",
        "outputId": "9d7d3e7c-5a09-46eb-8ab9-96ef6e60b49b"
      },
      "execution_count": 17,
      "outputs": [
        {
          "output_type": "execute_result",
          "data": {
            "text/plain": [
              "0.5988081048867699"
            ]
          },
          "metadata": {},
          "execution_count": 17
        }
      ]
    },
    {
      "cell_type": "code",
      "source": [
        "loan_charged_off"
      ],
      "metadata": {
        "colab": {
          "base_uri": "https://localhost:8080/"
        },
        "id": "tSjmQLppLHxh",
        "outputId": "a0379060-cd56-4567-f9d1-2aaad5fbc577"
      },
      "execution_count": 18,
      "outputs": [
        {
          "output_type": "execute_result",
          "data": {
            "text/plain": [
              "0.40119189511323006"
            ]
          },
          "metadata": {},
          "execution_count": 18
        }
      ]
    },
    {
      "cell_type": "code",
      "source": [
        "loan_fullypaid = loan_df[loan_df['loan_status'] == \"Fully Paid\"].copy()\n",
        "loan_chargedoff = loan_df[loan_df['loan_status'] == \"Charged Off\"].copy()"
      ],
      "metadata": {
        "id": "5mL4T7UMMfqF"
      },
      "execution_count": 19,
      "outputs": []
    },
    {
      "cell_type": "code",
      "source": [
        "plt.figure(figsize=(15,8))\n",
        "sns.distplot(loan_fullypaid[\"loan_amnt\"], label='Fully Paid')\n",
        "sns.distplot(loan_chargedoff[\"loan_amnt\"], label='Charged Off')\n",
        "plt.legend()\n",
        "plt.savefig('approved_not_approved.png', facecolor='w', bbox_inches='tight')\n",
        "plt.show()\n"
      ],
      "metadata": {
        "colab": {
          "base_uri": "https://localhost:8080/",
          "height": 954
        },
        "id": "7ze5Lb9zLYZ4",
        "outputId": "19ddfbd8-57d3-466a-919b-257bd0693f86"
      },
      "execution_count": 20,
      "outputs": [
        {
          "output_type": "stream",
          "name": "stderr",
          "text": [
            "<ipython-input-20-2346aa339c2a>:2: UserWarning: \n",
            "\n",
            "`distplot` is a deprecated function and will be removed in seaborn v0.14.0.\n",
            "\n",
            "Please adapt your code to use either `displot` (a figure-level function with\n",
            "similar flexibility) or `histplot` (an axes-level function for histograms).\n",
            "\n",
            "For a guide to updating your code to use the new functions, please see\n",
            "https://gist.github.com/mwaskom/de44147ed2974457ad6372750bbe5751\n",
            "\n",
            "  sns.distplot(loan_fullypaid[\"loan_amnt\"], label='Fully Paid')\n",
            "<ipython-input-20-2346aa339c2a>:3: UserWarning: \n",
            "\n",
            "`distplot` is a deprecated function and will be removed in seaborn v0.14.0.\n",
            "\n",
            "Please adapt your code to use either `displot` (a figure-level function with\n",
            "similar flexibility) or `histplot` (an axes-level function for histograms).\n",
            "\n",
            "For a guide to updating your code to use the new functions, please see\n",
            "https://gist.github.com/mwaskom/de44147ed2974457ad6372750bbe5751\n",
            "\n",
            "  sns.distplot(loan_chargedoff[\"loan_amnt\"], label='Charged Off')\n"
          ]
        },
        {
          "output_type": "display_data",
          "data": {
            "text/plain": [
              "<Figure size 1500x800 with 1 Axes>"
            ],
            "image/png": "[encoded data removed]"
          },
          "metadata": {}
        }
      ]
    },
    {
      "cell_type": "code",
      "source": [
        "import category_encoders as ce\n"
      ],
      "metadata": {
        "id": "sNAVPKRubl4z"
      },
      "execution_count": 22,
      "outputs": []
    },
    {
      "cell_type": "code",
      "source": [
        "from tensorflow.keras.utils import to_categorical\n",
        "loan_df['loan_status'] = loan_df['loan_status'].replace(['Fully Paid'], 1)\n",
        "loan_df['loan_status'] = loan_df['loan_status'].replace(['Charged Off'], 0)\n",
        "\n",
        "Y = loan_df[\"loan_status\"]\n",
        "Y = np.asarray(Y).astype(np.float32)\n",
        "X = loan_df.drop(columns=[\"loan_status\"])\n"
      ],
      "metadata": {
        "id": "Ej9pLMbCSy0d"
      },
      "execution_count": 23,
      "outputs": []
    },
    {
      "cell_type": "code",
      "source": [
        "from sklearn.model_selection import train_test_split"
      ],
      "metadata": {
        "id": "SS5LMc3y3snc"
      },
      "execution_count": 24,
      "outputs": []
    },
    {
      "cell_type": "code",
      "source": [
        "# Split\n",
        "X_train, X_test, y_train, y_test = train_test_split(X, Y, test_size=0.2, random_state=101)"
      ],
      "metadata": {
        "id": "XO5yYojh3mpk"
      },
      "execution_count": 25,
      "outputs": []
    },
    {
      "cell_type": "code",
      "source": [
        "from sklearn.preprocessing import StandardScaler, MinMaxScaler\n"
      ],
      "metadata": {
        "id": "oX1tkYpG320W"
      },
      "execution_count": 26,
      "outputs": []
    },
    {
      "cell_type": "code",
      "source": [
        "scaler = MinMaxScaler()\n",
        "\n",
        "# fit and transfrom\n",
        "X_train = scaler.fit_transform(X_train)\n",
        "X_test = scaler.transform(X_test)\n",
        "\n",
        "# everything has been scaled between 1 and 0\n",
        "print('Max: ',X_train.max())\n",
        "print('Min: ', X_train.min())"
      ],
      "metadata": {
        "colab": {
          "base_uri": "https://localhost:8080/"
        },
        "id": "ItEpD6Cs3w73",
        "outputId": "53cc618d-60ce-4cbd-b9e6-2cabb233c8b8"
      },
      "execution_count": 27,
      "outputs": [
        {
          "output_type": "stream",
          "name": "stdout",
          "text": [
            "Max:  1.0000000000000002\n",
            "Min:  0.0\n"
          ]
        }
      ]
    },
    {
      "cell_type": "code",
      "source": [
        "model = keras.Sequential()\n",
        "\n",
        "# input layer\n",
        "model.add(Dense(78,activation='relu'))\n",
        "model.add(Dropout(0.2))\n",
        "\n",
        "# hidden layer\n",
        "model.add(Dense(39,activation='relu'))\n",
        "model.add(Dropout(0.2))\n",
        "\n",
        "# hidden layer\n",
        "model.add(Dense(19,activation='relu'))\n",
        "model.add(Dropout(0.2))\n",
        "\n",
        "# output layer\n",
        "model.add(Dense(1, activation='sigmoid'))\n",
        "\n",
        "# compile model\n",
        "model.compile(optimizer=\"adam\", loss='binary_crossentropy',metrics=['accuracy'])"
      ],
      "metadata": {
        "id": "NZ38e3HP385x"
      },
      "execution_count": 32,
      "outputs": []
    },
    {
      "cell_type": "code",
      "source": [
        "from tensorflow.keras.callbacks import EarlyStopping\n"
      ],
      "metadata": {
        "id": "MkA9y-rB4JXD"
      },
      "execution_count": 33,
      "outputs": []
    },
    {
      "cell_type": "code",
      "source": [
        "early_stop = EarlyStopping(monitor='val_loss', mode='min', verbose=1, patience=25)\n",
        "\n"
      ],
      "metadata": {
        "id": "fLkCWYlE4Ej9"
      },
      "execution_count": 34,
      "outputs": []
    },
    {
      "cell_type": "code",
      "source": [
        "model.fit(x=X_train,\n",
        "          y=y_train,\n",
        "          epochs=400,\n",
        "          verbose = 2,\n",
        "          batch_size=256,\n",
        "          validation_data=(X_test, y_test),\n",
        "          callbacks=[early_stop])"
      ],
      "metadata": {
        "colab": {
          "base_uri": "https://localhost:8080/"
        },
        "id": "r33y5MvM4ORT",
        "outputId": "c79a713a-30b0-4e74-8125-4051c7a02809"
      },
      "execution_count": 35,
      "outputs": [
        {
          "output_type": "stream",
          "name": "stdout",
          "text": [
            "Epoch 1/400\n",
            "53/53 - 3s - loss: 0.6061 - accuracy: 0.6720 - val_loss: 0.4327 - val_accuracy: 0.8239 - 3s/epoch - 57ms/step\n",
            "Epoch 2/400\n",
            "53/53 - 2s - loss: 0.3221 - accuracy: 0.8690 - val_loss: 0.2591 - val_accuracy: 0.8954 - 2s/epoch - 30ms/step\n",
            "Epoch 3/400\n",
            "53/53 - 2s - loss: 0.1545 - accuracy: 0.9453 - val_loss: 0.1594 - val_accuracy: 0.9356 - 2s/epoch - 31ms/step\n",
            "Epoch 4/400\n",
            "53/53 - 2s - loss: 0.0872 - accuracy: 0.9728 - val_loss: 0.1430 - val_accuracy: 0.9452 - 2s/epoch - 35ms/step\n",
            "Epoch 5/400\n",
            "53/53 - 3s - loss: 0.0554 - accuracy: 0.9836 - val_loss: 0.1401 - val_accuracy: 0.9425 - 3s/epoch - 51ms/step\n",
            "Epoch 6/400\n",
            "53/53 - 2s - loss: 0.0398 - accuracy: 0.9872 - val_loss: 0.1331 - val_accuracy: 0.9556 - 2s/epoch - 31ms/step\n",
            "Epoch 7/400\n",
            "53/53 - 2s - loss: 0.0301 - accuracy: 0.9904 - val_loss: 0.1330 - val_accuracy: 0.9520 - 2s/epoch - 33ms/step\n",
            "Epoch 8/400\n",
            "53/53 - 2s - loss: 0.0204 - accuracy: 0.9941 - val_loss: 0.1369 - val_accuracy: 0.9517 - 2s/epoch - 33ms/step\n",
            "Epoch 9/400\n",
            "53/53 - 2s - loss: 0.0192 - accuracy: 0.9946 - val_loss: 0.1348 - val_accuracy: 0.9523 - 2s/epoch - 33ms/step\n",
            "Epoch 10/400\n",
            "53/53 - 2s - loss: 0.0116 - accuracy: 0.9971 - val_loss: 0.1349 - val_accuracy: 0.9550 - 2s/epoch - 30ms/step\n",
            "Epoch 11/400\n",
            "53/53 - 2s - loss: 0.0089 - accuracy: 0.9974 - val_loss: 0.1385 - val_accuracy: 0.9589 - 2s/epoch - 38ms/step\n",
            "Epoch 12/400\n",
            "53/53 - 3s - loss: 0.0091 - accuracy: 0.9969 - val_loss: 0.1273 - val_accuracy: 0.9636 - 3s/epoch - 48ms/step\n",
            "Epoch 13/400\n",
            "53/53 - 2s - loss: 0.0081 - accuracy: 0.9975 - val_loss: 0.1351 - val_accuracy: 0.9633 - 2s/epoch - 30ms/step\n",
            "Epoch 14/400\n",
            "53/53 - 2s - loss: 0.0090 - accuracy: 0.9966 - val_loss: 0.1431 - val_accuracy: 0.9577 - 2s/epoch - 31ms/step\n",
            "Epoch 15/400\n",
            "53/53 - 3s - loss: 0.0062 - accuracy: 0.9984 - val_loss: 0.1513 - val_accuracy: 0.9601 - 3s/epoch - 58ms/step\n",
            "Epoch 16/400\n",
            "53/53 - 2s - loss: 0.0042 - accuracy: 0.9989 - val_loss: 0.1586 - val_accuracy: 0.9622 - 2s/epoch - 33ms/step\n",
            "Epoch 17/400\n",
            "53/53 - 2s - loss: 0.0032 - accuracy: 0.9993 - val_loss: 0.1698 - val_accuracy: 0.9586 - 2s/epoch - 37ms/step\n",
            "Epoch 18/400\n",
            "53/53 - 3s - loss: 0.0021 - accuracy: 0.9994 - val_loss: 0.1732 - val_accuracy: 0.9610 - 3s/epoch - 49ms/step\n",
            "Epoch 19/400\n",
            "53/53 - 2s - loss: 0.0020 - accuracy: 0.9996 - val_loss: 0.1836 - val_accuracy: 0.9568 - 2s/epoch - 31ms/step\n",
            "Epoch 20/400\n",
            "53/53 - 2s - loss: 0.0022 - accuracy: 0.9992 - val_loss: 0.1787 - val_accuracy: 0.9601 - 2s/epoch - 30ms/step\n",
            "Epoch 21/400\n",
            "53/53 - 2s - loss: 0.0046 - accuracy: 0.9987 - val_loss: 0.1770 - val_accuracy: 0.9577 - 2s/epoch - 33ms/step\n",
            "Epoch 22/400\n",
            "53/53 - 2s - loss: 0.0083 - accuracy: 0.9974 - val_loss: 0.1755 - val_accuracy: 0.9568 - 2s/epoch - 44ms/step\n",
            "Epoch 23/400\n",
            "53/53 - 2s - loss: 0.0030 - accuracy: 0.9993 - val_loss: 0.1856 - val_accuracy: 0.9619 - 2s/epoch - 41ms/step\n",
            "Epoch 24/400\n",
            "53/53 - 3s - loss: 0.0020 - accuracy: 0.9994 - val_loss: 0.1810 - val_accuracy: 0.9610 - 3s/epoch - 51ms/step\n",
            "Epoch 25/400\n",
            "53/53 - 2s - loss: 0.0011 - accuracy: 0.9998 - val_loss: 0.1893 - val_accuracy: 0.9604 - 2s/epoch - 34ms/step\n",
            "Epoch 26/400\n",
            "53/53 - 2s - loss: 0.0014 - accuracy: 0.9995 - val_loss: 0.1945 - val_accuracy: 0.9574 - 2s/epoch - 30ms/step\n",
            "Epoch 27/400\n",
            "53/53 - 2s - loss: 0.0017 - accuracy: 0.9996 - val_loss: 0.1978 - val_accuracy: 0.9607 - 2s/epoch - 30ms/step\n",
            "Epoch 28/400\n",
            "53/53 - 2s - loss: 0.0025 - accuracy: 0.9992 - val_loss: 0.2011 - val_accuracy: 0.9565 - 2s/epoch - 34ms/step\n",
            "Epoch 29/400\n",
            "53/53 - 2s - loss: 0.0011 - accuracy: 0.9999 - val_loss: 0.2056 - val_accuracy: 0.9571 - 2s/epoch - 34ms/step\n",
            "Epoch 30/400\n",
            "53/53 - 2s - loss: 9.3550e-04 - accuracy: 0.9996 - val_loss: 0.2034 - val_accuracy: 0.9550 - 2s/epoch - 34ms/step\n",
            "Epoch 31/400\n",
            "53/53 - 3s - loss: 0.0015 - accuracy: 0.9996 - val_loss: 0.2102 - val_accuracy: 0.9550 - 3s/epoch - 53ms/step\n",
            "Epoch 32/400\n",
            "53/53 - 2s - loss: 0.0025 - accuracy: 0.9992 - val_loss: 0.2075 - val_accuracy: 0.9577 - 2s/epoch - 30ms/step\n",
            "Epoch 33/400\n",
            "53/53 - 2s - loss: 0.0025 - accuracy: 0.9993 - val_loss: 0.2083 - val_accuracy: 0.9574 - 2s/epoch - 31ms/step\n",
            "Epoch 34/400\n",
            "53/53 - 2s - loss: 0.0017 - accuracy: 0.9996 - val_loss: 0.1988 - val_accuracy: 0.9607 - 2s/epoch - 34ms/step\n",
            "Epoch 35/400\n",
            "53/53 - 2s - loss: 0.0021 - accuracy: 0.9993 - val_loss: 0.2113 - val_accuracy: 0.9610 - 2s/epoch - 30ms/step\n",
            "Epoch 36/400\n",
            "53/53 - 2s - loss: 8.7485e-04 - accuracy: 0.9998 - val_loss: 0.2175 - val_accuracy: 0.9607 - 2s/epoch - 30ms/step\n",
            "Epoch 37/400\n",
            "53/53 - 2s - loss: 0.0026 - accuracy: 0.9991 - val_loss: 0.2013 - val_accuracy: 0.9607 - 2s/epoch - 33ms/step\n",
            "Epoch 37: early stopping\n"
          ]
        },
        {
          "output_type": "execute_result",
          "data": {
            "text/plain": [
              "<keras.callbacks.History at 0x7fb56f427340>"
            ]
          },
          "metadata": {},
          "execution_count": 35
        }
      ]
    },
    {
      "cell_type": "code",
      "source": [
        "losses = pd.DataFrame(model.history.history)\n",
        "\n",
        "plt.figure(figsize=(15,5))\n",
        "sns.lineplot(data=losses,lw=3)\n",
        "plt.xlabel('Epochs')\n",
        "plt.ylabel('')\n",
        "plt.title('Training Loss per Epoch')\n",
        "sns.despine()"
      ],
      "metadata": {
        "colab": {
          "base_uri": "https://localhost:8080/",
          "height": 411
        },
        "id": "8f8VtitJ7Obb",
        "outputId": "a6fde40d-f09d-484b-af21-5b535f59dbac"
      },
      "execution_count": 37,
      "outputs": [
        {
          "output_type": "display_data",
          "data": {
            "text/plain": [
              "<Figure size 1500x500 with 1 Axes>"
            ],
            "image/png": "[encoded data removed]"
          },
          "metadata": {}
        }
      ]
    },
    {
      "cell_type": "code",
      "source": [
        "from sklearn.metrics import classification_report,confusion_matrix\n"
      ],
      "metadata": {
        "id": "8QNZb52H28_2"
      },
      "execution_count": 40,
      "outputs": []
    },
    {
      "cell_type": "code",
      "source": [
        "predict_x_train=model.predict(X_train)\n",
        "predict_x_train\n",
        "predict_x_train[predict_x_train <= 0.5] = 0.\n",
        "predict_x_train[predict_x_train > 0.5] = 1."
      ],
      "metadata": {
        "colab": {
          "base_uri": "https://localhost:8080/"
        },
        "id": "9YlHzQJUCt5R",
        "outputId": "007c6ce3-2f39-427f-8076-c77def20dbe8"
      },
      "execution_count": 59,
      "outputs": [
        {
          "output_type": "stream",
          "name": "stdout",
          "text": [
            "420/420 [==============================] - 3s 6ms/step\n"
          ]
        }
      ]
    },
    {
      "cell_type": "code",
      "source": [
        "print('Classification Report:')\n",
        "print(classification_report(y_train, predict_x_train))\n",
        "print('\\n')\n",
        "print('Confusion Matirx:')\n",
        "print(confusion_matrix(y_train, predict_x_train))"
      ],
      "metadata": {
        "colab": {
          "base_uri": "https://localhost:8080/"
        },
        "id": "MUzx1eCcC7__",
        "outputId": "aa2f6482-bd2d-4609-bf25-691ea413e950"
      },
      "execution_count": 60,
      "outputs": [
        {
          "output_type": "stream",
          "name": "stdout",
          "text": [
            "Classification Report:\n",
            "              precision    recall  f1-score   support\n",
            "\n",
            "         0.0       1.00      1.00      1.00      5391\n",
            "         1.0       1.00      1.00      1.00      8033\n",
            "\n",
            "    accuracy                           1.00     13424\n",
            "   macro avg       1.00      1.00      1.00     13424\n",
            "weighted avg       1.00      1.00      1.00     13424\n",
            "\n",
            "\n",
            "\n",
            "Confusion Matirx:\n",
            "[[5391    0]\n",
            " [   0 8033]]\n"
          ]
        }
      ]
    },
    {
      "cell_type": "code",
      "source": [
        "predict_x_test=model.predict(X_test)\n",
        "predict_x_test[predict_x_test <= 0.5] = 0.\n",
        "predict_x_test[predict_x_test > 0.5] = 1."
      ],
      "metadata": {
        "colab": {
          "base_uri": "https://localhost:8080/"
        },
        "id": "y3u13Eu_-oZR",
        "outputId": "b19b8b8c-3d60-4849-904f-687bd6a887d7"
      },
      "execution_count": 61,
      "outputs": [
        {
          "output_type": "stream",
          "name": "stdout",
          "text": [
            "105/105 [==============================] - 0s 5ms/step\n"
          ]
        }
      ]
    },
    {
      "cell_type": "code",
      "source": [
        "print('Classification Report:')\n",
        "print(classification_report(y_test, predict_x_test))\n",
        "print('\\n')\n",
        "print('Confusion Matirx:')\n",
        "print(confusion_matrix(y_test, predict_x_test))"
      ],
      "metadata": {
        "colab": {
          "base_uri": "https://localhost:8080/"
        },
        "id": "RkuFPLsA8M0B",
        "outputId": "e3560b02-d7cd-4336-bd02-ccee08af72d3"
      },
      "execution_count": 62,
      "outputs": [
        {
          "output_type": "stream",
          "name": "stdout",
          "text": [
            "Classification Report:\n",
            "              precision    recall  f1-score   support\n",
            "\n",
            "         0.0       0.95      0.95      0.95      1341\n",
            "         1.0       0.97      0.97      0.97      2015\n",
            "\n",
            "    accuracy                           0.96      3356\n",
            "   macro avg       0.96      0.96      0.96      3356\n",
            "weighted avg       0.96      0.96      0.96      3356\n",
            "\n",
            "\n",
            "\n",
            "Confusion Matirx:\n",
            "[[1274   67]\n",
            " [  65 1950]]\n"
          ]
        }
      ]
    },
    {
      "cell_type": "code",
      "source": [
        "score = model.evaluate(X_test, y_test, verbose=0)\n",
        "print('Test loss:', score[0])\n",
        "print('Test accuracy:', score[1])\n"
      ],
      "metadata": {
        "colab": {
          "base_uri": "https://localhost:8080/"
        },
        "id": "DPeda3Ao_vez",
        "outputId": "3bbacd21-74bc-4631-a593-16c9e4b7e523"
      },
      "execution_count": 63,
      "outputs": [
        {
          "output_type": "stream",
          "name": "stdout",
          "text": [
            "Test loss: 0.20133264362812042\n",
            "Test accuracy: 0.9606674909591675\n"
          ]
        }
      ]
    }
  ]
}